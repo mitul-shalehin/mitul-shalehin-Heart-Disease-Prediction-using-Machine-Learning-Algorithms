{
 "cells": [
  {
   "cell_type": "code",
   "execution_count": 7,
   "id": "7d2f6fb6",
   "metadata": {},
   "outputs": [],
   "source": [
    "# loading the important libraries \n",
    "\n",
    "import numpy as np\n",
    "import pandas as pd \n",
    "from matplotlib import pyplot as plt\n",
    "import seaborn as sns \n",
    "import warnings\n",
    "warnings.filterwarnings('ignore')\n",
    "%matplotlib inline\n"
   ]
  },
  {
   "cell_type": "code",
   "execution_count": 8,
   "id": "596fade0",
   "metadata": {},
   "outputs": [
    {
     "name": "stdout",
     "output_type": "stream",
     "text": [
      "(960, 13)\n"
     ]
    },
    {
     "data": {
      "text/html": [
       "<div>\n",
       "<style scoped>\n",
       "    .dataframe tbody tr th:only-of-type {\n",
       "        vertical-align: middle;\n",
       "    }\n",
       "\n",
       "    .dataframe tbody tr th {\n",
       "        vertical-align: top;\n",
       "    }\n",
       "\n",
       "    .dataframe thead th {\n",
       "        text-align: right;\n",
       "    }\n",
       "</style>\n",
       "<table border=\"1\" class=\"dataframe\">\n",
       "  <thead>\n",
       "    <tr style=\"text-align: right;\">\n",
       "      <th></th>\n",
       "      <th>Age</th>\n",
       "      <th>Sex</th>\n",
       "      <th>CP</th>\n",
       "      <th>MHR</th>\n",
       "      <th>BP</th>\n",
       "      <th>SC</th>\n",
       "      <th>FBS</th>\n",
       "      <th>EIA</th>\n",
       "      <th>REG</th>\n",
       "      <th>STD</th>\n",
       "      <th>slope</th>\n",
       "      <th>target</th>\n",
       "      <th>Thal</th>\n",
       "    </tr>\n",
       "  </thead>\n",
       "  <tbody>\n",
       "    <tr>\n",
       "      <th>0</th>\n",
       "      <td>58</td>\n",
       "      <td>0</td>\n",
       "      <td>1</td>\n",
       "      <td>145</td>\n",
       "      <td>160</td>\n",
       "      <td>164</td>\n",
       "      <td>0</td>\n",
       "      <td>0</td>\n",
       "      <td>1</td>\n",
       "      <td>6.2</td>\n",
       "      <td>0</td>\n",
       "      <td>0</td>\n",
       "      <td>3</td>\n",
       "    </tr>\n",
       "    <tr>\n",
       "      <th>1</th>\n",
       "      <td>55</td>\n",
       "      <td>1</td>\n",
       "      <td>2</td>\n",
       "      <td>120</td>\n",
       "      <td>104</td>\n",
       "      <td>113</td>\n",
       "      <td>0</td>\n",
       "      <td>0</td>\n",
       "      <td>1</td>\n",
       "      <td>3.5</td>\n",
       "      <td>0</td>\n",
       "      <td>0</td>\n",
       "      <td>3</td>\n",
       "    </tr>\n",
       "    <tr>\n",
       "      <th>2</th>\n",
       "      <td>39</td>\n",
       "      <td>0</td>\n",
       "      <td>3</td>\n",
       "      <td>180</td>\n",
       "      <td>120</td>\n",
       "      <td>186</td>\n",
       "      <td>0</td>\n",
       "      <td>1</td>\n",
       "      <td>1</td>\n",
       "      <td>4.2</td>\n",
       "      <td>0</td>\n",
       "      <td>0</td>\n",
       "      <td>3</td>\n",
       "    </tr>\n",
       "    <tr>\n",
       "      <th>3</th>\n",
       "      <td>57</td>\n",
       "      <td>1</td>\n",
       "      <td>1</td>\n",
       "      <td>168</td>\n",
       "      <td>110</td>\n",
       "      <td>229</td>\n",
       "      <td>0</td>\n",
       "      <td>0</td>\n",
       "      <td>0</td>\n",
       "      <td>1.0</td>\n",
       "      <td>0</td>\n",
       "      <td>0</td>\n",
       "      <td>3</td>\n",
       "    </tr>\n",
       "    <tr>\n",
       "      <th>4</th>\n",
       "      <td>58</td>\n",
       "      <td>0</td>\n",
       "      <td>1</td>\n",
       "      <td>145</td>\n",
       "      <td>95</td>\n",
       "      <td>0</td>\n",
       "      <td>1</td>\n",
       "      <td>0</td>\n",
       "      <td>0</td>\n",
       "      <td>1.1</td>\n",
       "      <td>0</td>\n",
       "      <td>0</td>\n",
       "      <td>3</td>\n",
       "    </tr>\n",
       "  </tbody>\n",
       "</table>\n",
       "</div>"
      ],
      "text/plain": [
       "   Age  Sex  CP  MHR   BP   SC  FBS  EIA  REG  STD  slope  target  Thal\n",
       "0   58    0   1  145  160  164    0    0    1  6.2      0       0     3\n",
       "1   55    1   2  120  104  113    0    0    1  3.5      0       0     3\n",
       "2   39    0   3  180  120  186    0    1    1  4.2      0       0     3\n",
       "3   57    1   1  168  110  229    0    0    0  1.0      0       0     3\n",
       "4   58    0   1  145   95    0    1    0    0  1.1      0       0     3"
      ]
     },
     "execution_count": 8,
     "metadata": {},
     "output_type": "execute_result"
    }
   ],
   "source": [
    "# read the dataset \n",
    "\n",
    "df = pd.read_csv('heart1.csv')\n",
    "print(df.shape)\n",
    "df.head()"
   ]
  },
  {
   "cell_type": "code",
   "execution_count": 9,
   "id": "3e399785",
   "metadata": {},
   "outputs": [
    {
     "name": "stdout",
     "output_type": "stream",
     "text": [
      "Feature  Age  has  48  unique values\n",
      "Feature  Sex  has  2  unique values ---->  [0 1]\n",
      "Feature  CP  has  4  unique values ---->  [1 2 3 0]\n",
      "Feature  MHR  has  119  unique values\n",
      "Feature  BP  has  67  unique values\n",
      "Feature  SC  has  221  unique values\n",
      "Feature  FBS  has  2  unique values ---->  [0 1]\n",
      "Feature  EIA  has  2  unique values ---->  [0 1]\n",
      "Feature  REG  has  3  unique values ---->  [1 0 2]\n",
      "Feature  STD  has  53  unique values\n",
      "Feature  slope  has  3  unique values ---->  [0 1 2]\n",
      "Feature  target  has  2  unique values ---->  [0 1]\n",
      "Feature  Thal  has  3  unique values ---->  [3 1 2]\n"
     ]
    }
   ],
   "source": [
    "for cols in df.columns:\n",
    "    unique_vals = df[cols].unique()\n",
    "    if len(unique_vals) <= 10:\n",
    "        print(\"Feature \", cols, \" has \", len(unique_vals), \" unique values ----> \", unique_vals)\n",
    "    else:\n",
    "        print(\"Feature \", cols, \" has \", len(unique_vals), \" unique values\")"
   ]
  },
  {
   "cell_type": "code",
   "execution_count": 10,
   "id": "4239d794",
   "metadata": {},
   "outputs": [],
   "source": [
    "cat_features = [\"CP\", \"REG\", \"Thal\"]"
   ]
  },
  {
   "cell_type": "markdown",
   "id": "8946710a",
   "metadata": {},
   "source": [
    "# DATA PRE-PROCESSING"
   ]
  },
  {
   "cell_type": "code",
   "execution_count": 11,
   "id": "26be4e40",
   "metadata": {},
   "outputs": [
    {
     "data": {
      "text/plain": [
       "Age       0\n",
       "Sex       0\n",
       "CP        0\n",
       "MHR       0\n",
       "BP        0\n",
       "SC        0\n",
       "FBS       0\n",
       "EIA       0\n",
       "REG       0\n",
       "STD       0\n",
       "slope     0\n",
       "target    0\n",
       "Thal      0\n",
       "dtype: int64"
      ]
     },
     "execution_count": 11,
     "metadata": {},
     "output_type": "execute_result"
    }
   ],
   "source": [
    "## checking for null values\n",
    "df.isnull().sum()"
   ]
  },
  {
   "cell_type": "code",
   "execution_count": 12,
   "id": "009eac37",
   "metadata": {},
   "outputs": [
    {
     "name": "stdout",
     "output_type": "stream",
     "text": [
      "(960, 13)\n"
     ]
    }
   ],
   "source": [
    "# remove duplicate entries, if any\n",
    "df.drop_duplicates(inplace = True)\n",
    "print(df.shape)"
   ]
  },
  {
   "cell_type": "code",
   "execution_count": 13,
   "id": "c68ad712",
   "metadata": {},
   "outputs": [
    {
     "data": {
      "text/html": [
       "<div>\n",
       "<style scoped>\n",
       "    .dataframe tbody tr th:only-of-type {\n",
       "        vertical-align: middle;\n",
       "    }\n",
       "\n",
       "    .dataframe tbody tr th {\n",
       "        vertical-align: top;\n",
       "    }\n",
       "\n",
       "    .dataframe thead th {\n",
       "        text-align: right;\n",
       "    }\n",
       "</style>\n",
       "<table border=\"1\" class=\"dataframe\">\n",
       "  <thead>\n",
       "    <tr style=\"text-align: right;\">\n",
       "      <th></th>\n",
       "      <th>Age</th>\n",
       "      <th>Sex</th>\n",
       "      <th>CP</th>\n",
       "      <th>MHR</th>\n",
       "      <th>BP</th>\n",
       "      <th>SC</th>\n",
       "      <th>FBS</th>\n",
       "      <th>EIA</th>\n",
       "      <th>REG</th>\n",
       "      <th>STD</th>\n",
       "      <th>slope</th>\n",
       "      <th>target</th>\n",
       "      <th>Thal</th>\n",
       "    </tr>\n",
       "  </thead>\n",
       "  <tbody>\n",
       "    <tr>\n",
       "      <th>0</th>\n",
       "      <td>58</td>\n",
       "      <td>0</td>\n",
       "      <td>B</td>\n",
       "      <td>145</td>\n",
       "      <td>160</td>\n",
       "      <td>164</td>\n",
       "      <td>0</td>\n",
       "      <td>0</td>\n",
       "      <td>Q</td>\n",
       "      <td>6.2</td>\n",
       "      <td>0</td>\n",
       "      <td>0</td>\n",
       "      <td>3</td>\n",
       "    </tr>\n",
       "    <tr>\n",
       "      <th>1</th>\n",
       "      <td>55</td>\n",
       "      <td>1</td>\n",
       "      <td>C</td>\n",
       "      <td>120</td>\n",
       "      <td>104</td>\n",
       "      <td>113</td>\n",
       "      <td>0</td>\n",
       "      <td>0</td>\n",
       "      <td>Q</td>\n",
       "      <td>3.5</td>\n",
       "      <td>0</td>\n",
       "      <td>0</td>\n",
       "      <td>3</td>\n",
       "    </tr>\n",
       "    <tr>\n",
       "      <th>2</th>\n",
       "      <td>39</td>\n",
       "      <td>0</td>\n",
       "      <td>D</td>\n",
       "      <td>180</td>\n",
       "      <td>120</td>\n",
       "      <td>186</td>\n",
       "      <td>0</td>\n",
       "      <td>1</td>\n",
       "      <td>Q</td>\n",
       "      <td>4.2</td>\n",
       "      <td>0</td>\n",
       "      <td>0</td>\n",
       "      <td>3</td>\n",
       "    </tr>\n",
       "    <tr>\n",
       "      <th>3</th>\n",
       "      <td>57</td>\n",
       "      <td>1</td>\n",
       "      <td>B</td>\n",
       "      <td>168</td>\n",
       "      <td>110</td>\n",
       "      <td>229</td>\n",
       "      <td>0</td>\n",
       "      <td>0</td>\n",
       "      <td>P</td>\n",
       "      <td>1.0</td>\n",
       "      <td>0</td>\n",
       "      <td>0</td>\n",
       "      <td>3</td>\n",
       "    </tr>\n",
       "    <tr>\n",
       "      <th>4</th>\n",
       "      <td>58</td>\n",
       "      <td>0</td>\n",
       "      <td>B</td>\n",
       "      <td>145</td>\n",
       "      <td>95</td>\n",
       "      <td>0</td>\n",
       "      <td>1</td>\n",
       "      <td>0</td>\n",
       "      <td>P</td>\n",
       "      <td>1.1</td>\n",
       "      <td>0</td>\n",
       "      <td>0</td>\n",
       "      <td>3</td>\n",
       "    </tr>\n",
       "  </tbody>\n",
       "</table>\n",
       "</div>"
      ],
      "text/plain": [
       "   Age  Sex CP  MHR   BP   SC  FBS  EIA REG  STD  slope  target  Thal\n",
       "0   58    0  B  145  160  164    0    0   Q  6.2      0       0     3\n",
       "1   55    1  C  120  104  113    0    0   Q  3.5      0       0     3\n",
       "2   39    0  D  180  120  186    0    1   Q  4.2      0       0     3\n",
       "3   57    1  B  168  110  229    0    0   P  1.0      0       0     3\n",
       "4   58    0  B  145   95    0    1    0   P  1.1      0       0     3"
      ]
     },
     "execution_count": 13,
     "metadata": {},
     "output_type": "execute_result"
    }
   ],
   "source": [
    "# Convert Catergorical values to numeric representation\n",
    "\n",
    "df['CP'].replace({0:'A', 1:'B', 2:'C', 3:'D'}, inplace = True)\n",
    "df['REG'].replace({0:\"P\", 1:\"Q\", 2:\"R\"}, inplace = True)\n",
    "df.head()"
   ]
  },
  {
   "cell_type": "code",
   "execution_count": 14,
   "id": "062e4907",
   "metadata": {},
   "outputs": [
    {
     "data": {
      "text/plain": [
       "3    422\n",
       "2    390\n",
       "1    148\n",
       "Name: Thal, dtype: int64"
      ]
     },
     "execution_count": 14,
     "metadata": {},
     "output_type": "execute_result"
    }
   ],
   "source": [
    "# let's investigate the 'thal' feature\n",
    "\n",
    "df['Thal'].value_counts()"
   ]
  },
  {
   "cell_type": "code",
   "execution_count": 15,
   "id": "c57367d5",
   "metadata": {},
   "outputs": [
    {
     "data": {
      "text/plain": [
       "1    506\n",
       "0    454\n",
       "Name: target, dtype: int64"
      ]
     },
     "execution_count": 15,
     "metadata": {},
     "output_type": "execute_result"
    }
   ],
   "source": [
    "df['target'].value_counts()"
   ]
  },
  {
   "cell_type": "code",
   "execution_count": 16,
   "id": "bcae5d0d",
   "metadata": {},
   "outputs": [
    {
     "data": {
      "text/plain": [
       "Text(0.5, 1.0, 'Counts Per Target Class on the Dataset')"
      ]
     },
     "execution_count": 16,
     "metadata": {},
     "output_type": "execute_result"
    },
    {
     "data": {
      "image/png": "[encoded data removed]",
      "text/plain": [
       "<Figure size 576x360 with 1 Axes>"
      ]
     },
     "metadata": {
      "needs_background": "light"
     },
     "output_type": "display_data"
    }
   ],
   "source": [
    "plt.figure(figsize=(8, 5))\n",
    "\n",
    "plt.subplot()\n",
    "ax = sns.countplot(df['target'] )\n",
    "ax.set(ylabel=\"count\", xlabel=\" Target Categories \")\n",
    "plt.title(\"Counts Per Target Class on the Dataset\")\n"
   ]
  },
  {
   "cell_type": "code",
   "execution_count": 17,
   "id": "71ab72b9",
   "metadata": {},
   "outputs": [
    {
     "data": {
      "text/html": [
       "<div>\n",
       "<style scoped>\n",
       "    .dataframe tbody tr th:only-of-type {\n",
       "        vertical-align: middle;\n",
       "    }\n",
       "\n",
       "    .dataframe tbody tr th {\n",
       "        vertical-align: top;\n",
       "    }\n",
       "\n",
       "    .dataframe thead th {\n",
       "        text-align: right;\n",
       "    }\n",
       "</style>\n",
       "<table border=\"1\" class=\"dataframe\">\n",
       "  <thead>\n",
       "    <tr style=\"text-align: right;\">\n",
       "      <th></th>\n",
       "      <th>Age</th>\n",
       "      <th>Sex</th>\n",
       "      <th>CP</th>\n",
       "      <th>MHR</th>\n",
       "      <th>BP</th>\n",
       "      <th>SC</th>\n",
       "      <th>FBS</th>\n",
       "      <th>EIA</th>\n",
       "      <th>REG</th>\n",
       "      <th>STD</th>\n",
       "      <th>slope</th>\n",
       "      <th>target</th>\n",
       "      <th>Thal</th>\n",
       "    </tr>\n",
       "  </thead>\n",
       "  <tbody>\n",
       "    <tr>\n",
       "      <th>0</th>\n",
       "      <td>58</td>\n",
       "      <td>0</td>\n",
       "      <td>B</td>\n",
       "      <td>145</td>\n",
       "      <td>160</td>\n",
       "      <td>164</td>\n",
       "      <td>0</td>\n",
       "      <td>0</td>\n",
       "      <td>Q</td>\n",
       "      <td>6.2</td>\n",
       "      <td>0</td>\n",
       "      <td>0</td>\n",
       "      <td>reversibledefect</td>\n",
       "    </tr>\n",
       "    <tr>\n",
       "      <th>1</th>\n",
       "      <td>55</td>\n",
       "      <td>1</td>\n",
       "      <td>C</td>\n",
       "      <td>120</td>\n",
       "      <td>104</td>\n",
       "      <td>113</td>\n",
       "      <td>0</td>\n",
       "      <td>0</td>\n",
       "      <td>Q</td>\n",
       "      <td>3.5</td>\n",
       "      <td>0</td>\n",
       "      <td>0</td>\n",
       "      <td>reversibledefect</td>\n",
       "    </tr>\n",
       "    <tr>\n",
       "      <th>2</th>\n",
       "      <td>39</td>\n",
       "      <td>0</td>\n",
       "      <td>D</td>\n",
       "      <td>180</td>\n",
       "      <td>120</td>\n",
       "      <td>186</td>\n",
       "      <td>0</td>\n",
       "      <td>1</td>\n",
       "      <td>Q</td>\n",
       "      <td>4.2</td>\n",
       "      <td>0</td>\n",
       "      <td>0</td>\n",
       "      <td>reversibledefect</td>\n",
       "    </tr>\n",
       "    <tr>\n",
       "      <th>3</th>\n",
       "      <td>57</td>\n",
       "      <td>1</td>\n",
       "      <td>B</td>\n",
       "      <td>168</td>\n",
       "      <td>110</td>\n",
       "      <td>229</td>\n",
       "      <td>0</td>\n",
       "      <td>0</td>\n",
       "      <td>P</td>\n",
       "      <td>1.0</td>\n",
       "      <td>0</td>\n",
       "      <td>0</td>\n",
       "      <td>reversibledefect</td>\n",
       "    </tr>\n",
       "    <tr>\n",
       "      <th>4</th>\n",
       "      <td>58</td>\n",
       "      <td>0</td>\n",
       "      <td>B</td>\n",
       "      <td>145</td>\n",
       "      <td>95</td>\n",
       "      <td>0</td>\n",
       "      <td>1</td>\n",
       "      <td>0</td>\n",
       "      <td>P</td>\n",
       "      <td>1.1</td>\n",
       "      <td>0</td>\n",
       "      <td>0</td>\n",
       "      <td>reversibledefect</td>\n",
       "    </tr>\n",
       "  </tbody>\n",
       "</table>\n",
       "</div>"
      ],
      "text/plain": [
       "   Age  Sex CP  MHR   BP   SC  FBS  EIA REG  STD  slope  target  \\\n",
       "0   58    0  B  145  160  164    0    0   Q  6.2      0       0   \n",
       "1   55    1  C  120  104  113    0    0   Q  3.5      0       0   \n",
       "2   39    0  D  180  120  186    0    1   Q  4.2      0       0   \n",
       "3   57    1  B  168  110  229    0    0   P  1.0      0       0   \n",
       "4   58    0  B  145   95    0    1    0   P  1.1      0       0   \n",
       "\n",
       "               Thal  \n",
       "0  reversibledefect  \n",
       "1  reversibledefect  \n",
       "2  reversibledefect  \n",
       "3  reversibledefect  \n",
       "4  reversibledefect  "
      ]
     },
     "execution_count": 17,
     "metadata": {},
     "output_type": "execute_result"
    }
   ],
   "source": [
    "df['Thal'].replace({1:\"normal\", 2:\"fixeddefect\", 3:\"reversibledefect\"}, inplace = True)\n",
    "df.head()"
   ]
  },
  {
   "cell_type": "code",
   "execution_count": 18,
   "id": "9eedc20b",
   "metadata": {},
   "outputs": [
    {
     "data": {
      "text/html": [
       "<div>\n",
       "<style scoped>\n",
       "    .dataframe tbody tr th:only-of-type {\n",
       "        vertical-align: middle;\n",
       "    }\n",
       "\n",
       "    .dataframe tbody tr th {\n",
       "        vertical-align: top;\n",
       "    }\n",
       "\n",
       "    .dataframe thead th {\n",
       "        text-align: right;\n",
       "    }\n",
       "</style>\n",
       "<table border=\"1\" class=\"dataframe\">\n",
       "  <thead>\n",
       "    <tr style=\"text-align: right;\">\n",
       "      <th></th>\n",
       "      <th>Age</th>\n",
       "      <th>Sex</th>\n",
       "      <th>MHR</th>\n",
       "      <th>BP</th>\n",
       "      <th>SC</th>\n",
       "      <th>FBS</th>\n",
       "      <th>EIA</th>\n",
       "      <th>STD</th>\n",
       "      <th>slope</th>\n",
       "      <th>target</th>\n",
       "      <th>CP_A</th>\n",
       "      <th>CP_B</th>\n",
       "      <th>CP_C</th>\n",
       "      <th>CP_D</th>\n",
       "      <th>REG_P</th>\n",
       "      <th>REG_Q</th>\n",
       "      <th>REG_R</th>\n",
       "      <th>Thal_fixeddefect</th>\n",
       "      <th>Thal_normal</th>\n",
       "      <th>Thal_reversibledefect</th>\n",
       "    </tr>\n",
       "  </thead>\n",
       "  <tbody>\n",
       "    <tr>\n",
       "      <th>0</th>\n",
       "      <td>58</td>\n",
       "      <td>0</td>\n",
       "      <td>145</td>\n",
       "      <td>160</td>\n",
       "      <td>164</td>\n",
       "      <td>0</td>\n",
       "      <td>0</td>\n",
       "      <td>6.2</td>\n",
       "      <td>0</td>\n",
       "      <td>0</td>\n",
       "      <td>0</td>\n",
       "      <td>1</td>\n",
       "      <td>0</td>\n",
       "      <td>0</td>\n",
       "      <td>0</td>\n",
       "      <td>1</td>\n",
       "      <td>0</td>\n",
       "      <td>0</td>\n",
       "      <td>0</td>\n",
       "      <td>1</td>\n",
       "    </tr>\n",
       "    <tr>\n",
       "      <th>1</th>\n",
       "      <td>55</td>\n",
       "      <td>1</td>\n",
       "      <td>120</td>\n",
       "      <td>104</td>\n",
       "      <td>113</td>\n",
       "      <td>0</td>\n",
       "      <td>0</td>\n",
       "      <td>3.5</td>\n",
       "      <td>0</td>\n",
       "      <td>0</td>\n",
       "      <td>0</td>\n",
       "      <td>0</td>\n",
       "      <td>1</td>\n",
       "      <td>0</td>\n",
       "      <td>0</td>\n",
       "      <td>1</td>\n",
       "      <td>0</td>\n",
       "      <td>0</td>\n",
       "      <td>0</td>\n",
       "      <td>1</td>\n",
       "    </tr>\n",
       "    <tr>\n",
       "      <th>2</th>\n",
       "      <td>39</td>\n",
       "      <td>0</td>\n",
       "      <td>180</td>\n",
       "      <td>120</td>\n",
       "      <td>186</td>\n",
       "      <td>0</td>\n",
       "      <td>1</td>\n",
       "      <td>4.2</td>\n",
       "      <td>0</td>\n",
       "      <td>0</td>\n",
       "      <td>0</td>\n",
       "      <td>0</td>\n",
       "      <td>0</td>\n",
       "      <td>1</td>\n",
       "      <td>0</td>\n",
       "      <td>1</td>\n",
       "      <td>0</td>\n",
       "      <td>0</td>\n",
       "      <td>0</td>\n",
       "      <td>1</td>\n",
       "    </tr>\n",
       "    <tr>\n",
       "      <th>3</th>\n",
       "      <td>57</td>\n",
       "      <td>1</td>\n",
       "      <td>168</td>\n",
       "      <td>110</td>\n",
       "      <td>229</td>\n",
       "      <td>0</td>\n",
       "      <td>0</td>\n",
       "      <td>1.0</td>\n",
       "      <td>0</td>\n",
       "      <td>0</td>\n",
       "      <td>0</td>\n",
       "      <td>1</td>\n",
       "      <td>0</td>\n",
       "      <td>0</td>\n",
       "      <td>1</td>\n",
       "      <td>0</td>\n",
       "      <td>0</td>\n",
       "      <td>0</td>\n",
       "      <td>0</td>\n",
       "      <td>1</td>\n",
       "    </tr>\n",
       "    <tr>\n",
       "      <th>4</th>\n",
       "      <td>58</td>\n",
       "      <td>0</td>\n",
       "      <td>145</td>\n",
       "      <td>95</td>\n",
       "      <td>0</td>\n",
       "      <td>1</td>\n",
       "      <td>0</td>\n",
       "      <td>1.1</td>\n",
       "      <td>0</td>\n",
       "      <td>0</td>\n",
       "      <td>0</td>\n",
       "      <td>1</td>\n",
       "      <td>0</td>\n",
       "      <td>0</td>\n",
       "      <td>1</td>\n",
       "      <td>0</td>\n",
       "      <td>0</td>\n",
       "      <td>0</td>\n",
       "      <td>0</td>\n",
       "      <td>1</td>\n",
       "    </tr>\n",
       "  </tbody>\n",
       "</table>\n",
       "</div>"
      ],
      "text/plain": [
       "   Age  Sex  MHR   BP   SC  FBS  EIA  STD  slope  target  CP_A  CP_B  CP_C  \\\n",
       "0   58    0  145  160  164    0    0  6.2      0       0     0     1     0   \n",
       "1   55    1  120  104  113    0    0  3.5      0       0     0     0     1   \n",
       "2   39    0  180  120  186    0    1  4.2      0       0     0     0     0   \n",
       "3   57    1  168  110  229    0    0  1.0      0       0     0     1     0   \n",
       "4   58    0  145   95    0    1    0  1.1      0       0     0     1     0   \n",
       "\n",
       "   CP_D  REG_P  REG_Q  REG_R  Thal_fixeddefect  Thal_normal  \\\n",
       "0     0      0      1      0                 0            0   \n",
       "1     0      0      1      0                 0            0   \n",
       "2     1      0      1      0                 0            0   \n",
       "3     0      1      0      0                 0            0   \n",
       "4     0      1      0      0                 0            0   \n",
       "\n",
       "   Thal_reversibledefect  \n",
       "0                      1  \n",
       "1                      1  \n",
       "2                      1  \n",
       "3                      1  \n",
       "4                      1  "
      ]
     },
     "execution_count": 18,
     "metadata": {},
     "output_type": "execute_result"
    }
   ],
   "source": [
    "df = pd.get_dummies(data = df, columns = cat_features)\n",
    "df.head()"
   ]
  },
  {
   "cell_type": "markdown",
   "id": "91cda7ee",
   "metadata": {},
   "source": [
    "# Feature Selection"
   ]
  },
  {
   "cell_type": "code",
   "execution_count": 19,
   "id": "6960871c",
   "metadata": {},
   "outputs": [
    {
     "data": {
      "text/html": [
       "<div>\n",
       "<style scoped>\n",
       "    .dataframe tbody tr th:only-of-type {\n",
       "        vertical-align: middle;\n",
       "    }\n",
       "\n",
       "    .dataframe tbody tr th {\n",
       "        vertical-align: top;\n",
       "    }\n",
       "\n",
       "    .dataframe thead th {\n",
       "        text-align: right;\n",
       "    }\n",
       "</style>\n",
       "<table border=\"1\" class=\"dataframe\">\n",
       "  <thead>\n",
       "    <tr style=\"text-align: right;\">\n",
       "      <th></th>\n",
       "      <th>Age</th>\n",
       "      <th>Sex</th>\n",
       "      <th>MHR</th>\n",
       "      <th>BP</th>\n",
       "      <th>SC</th>\n",
       "      <th>FBS</th>\n",
       "      <th>EIA</th>\n",
       "      <th>STD</th>\n",
       "      <th>slope</th>\n",
       "      <th>target</th>\n",
       "      <th>CP_A</th>\n",
       "      <th>CP_B</th>\n",
       "      <th>CP_C</th>\n",
       "      <th>CP_D</th>\n",
       "      <th>REG_P</th>\n",
       "      <th>REG_Q</th>\n",
       "      <th>REG_R</th>\n",
       "      <th>Thal_fixeddefect</th>\n",
       "      <th>Thal_normal</th>\n",
       "      <th>Thal_reversibledefect</th>\n",
       "    </tr>\n",
       "  </thead>\n",
       "  <tbody>\n",
       "    <tr>\n",
       "      <th>count</th>\n",
       "      <td>960.000000</td>\n",
       "      <td>960.000000</td>\n",
       "      <td>960.000000</td>\n",
       "      <td>960.000000</td>\n",
       "      <td>960.000000</td>\n",
       "      <td>960.000000</td>\n",
       "      <td>960.000000</td>\n",
       "      <td>960.000000</td>\n",
       "      <td>960.000000</td>\n",
       "      <td>960.000000</td>\n",
       "      <td>960.000000</td>\n",
       "      <td>960.000000</td>\n",
       "      <td>960.0000</td>\n",
       "      <td>960.000000</td>\n",
       "      <td>960.000000</td>\n",
       "      <td>960.000000</td>\n",
       "      <td>960.000000</td>\n",
       "      <td>960.000000</td>\n",
       "      <td>960.000000</td>\n",
       "      <td>960.000000</td>\n",
       "    </tr>\n",
       "    <tr>\n",
       "      <th>mean</th>\n",
       "      <td>52.603125</td>\n",
       "      <td>0.769792</td>\n",
       "      <td>138.755208</td>\n",
       "      <td>132.258333</td>\n",
       "      <td>200.840625</td>\n",
       "      <td>0.357292</td>\n",
       "      <td>0.432292</td>\n",
       "      <td>0.919167</td>\n",
       "      <td>1.352083</td>\n",
       "      <td>0.527083</td>\n",
       "      <td>0.591667</td>\n",
       "      <td>0.121875</td>\n",
       "      <td>0.2250</td>\n",
       "      <td>0.061458</td>\n",
       "      <td>0.584375</td>\n",
       "      <td>0.211458</td>\n",
       "      <td>0.204167</td>\n",
       "      <td>0.406250</td>\n",
       "      <td>0.154167</td>\n",
       "      <td>0.439583</td>\n",
       "    </tr>\n",
       "    <tr>\n",
       "      <th>std</th>\n",
       "      <td>10.987233</td>\n",
       "      <td>0.421186</td>\n",
       "      <td>26.532084</td>\n",
       "      <td>18.453671</td>\n",
       "      <td>106.044930</td>\n",
       "      <td>0.479452</td>\n",
       "      <td>0.495653</td>\n",
       "      <td>1.077559</td>\n",
       "      <td>0.620299</td>\n",
       "      <td>0.499526</td>\n",
       "      <td>0.491782</td>\n",
       "      <td>0.327312</td>\n",
       "      <td>0.4178</td>\n",
       "      <td>0.240294</td>\n",
       "      <td>0.493086</td>\n",
       "      <td>0.408555</td>\n",
       "      <td>0.403301</td>\n",
       "      <td>0.491388</td>\n",
       "      <td>0.361297</td>\n",
       "      <td>0.496595</td>\n",
       "    </tr>\n",
       "    <tr>\n",
       "      <th>min</th>\n",
       "      <td>27.000000</td>\n",
       "      <td>0.000000</td>\n",
       "      <td>60.000000</td>\n",
       "      <td>0.000000</td>\n",
       "      <td>0.000000</td>\n",
       "      <td>0.000000</td>\n",
       "      <td>0.000000</td>\n",
       "      <td>-2.600000</td>\n",
       "      <td>0.000000</td>\n",
       "      <td>0.000000</td>\n",
       "      <td>0.000000</td>\n",
       "      <td>0.000000</td>\n",
       "      <td>0.0000</td>\n",
       "      <td>0.000000</td>\n",
       "      <td>0.000000</td>\n",
       "      <td>0.000000</td>\n",
       "      <td>0.000000</td>\n",
       "      <td>0.000000</td>\n",
       "      <td>0.000000</td>\n",
       "      <td>0.000000</td>\n",
       "    </tr>\n",
       "    <tr>\n",
       "      <th>25%</th>\n",
       "      <td>43.000000</td>\n",
       "      <td>1.000000</td>\n",
       "      <td>120.000000</td>\n",
       "      <td>120.000000</td>\n",
       "      <td>177.000000</td>\n",
       "      <td>0.000000</td>\n",
       "      <td>0.000000</td>\n",
       "      <td>0.000000</td>\n",
       "      <td>1.000000</td>\n",
       "      <td>0.000000</td>\n",
       "      <td>0.000000</td>\n",
       "      <td>0.000000</td>\n",
       "      <td>0.0000</td>\n",
       "      <td>0.000000</td>\n",
       "      <td>0.000000</td>\n",
       "      <td>0.000000</td>\n",
       "      <td>0.000000</td>\n",
       "      <td>0.000000</td>\n",
       "      <td>0.000000</td>\n",
       "      <td>0.000000</td>\n",
       "    </tr>\n",
       "    <tr>\n",
       "      <th>50%</th>\n",
       "      <td>55.000000</td>\n",
       "      <td>1.000000</td>\n",
       "      <td>140.000000</td>\n",
       "      <td>130.000000</td>\n",
       "      <td>221.500000</td>\n",
       "      <td>0.000000</td>\n",
       "      <td>0.000000</td>\n",
       "      <td>0.650000</td>\n",
       "      <td>1.000000</td>\n",
       "      <td>1.000000</td>\n",
       "      <td>1.000000</td>\n",
       "      <td>0.000000</td>\n",
       "      <td>0.0000</td>\n",
       "      <td>0.000000</td>\n",
       "      <td>1.000000</td>\n",
       "      <td>0.000000</td>\n",
       "      <td>0.000000</td>\n",
       "      <td>0.000000</td>\n",
       "      <td>0.000000</td>\n",
       "      <td>0.000000</td>\n",
       "    </tr>\n",
       "    <tr>\n",
       "      <th>75%</th>\n",
       "      <td>62.000000</td>\n",
       "      <td>1.000000</td>\n",
       "      <td>160.000000</td>\n",
       "      <td>140.000000</td>\n",
       "      <td>266.000000</td>\n",
       "      <td>1.000000</td>\n",
       "      <td>1.000000</td>\n",
       "      <td>1.500000</td>\n",
       "      <td>2.000000</td>\n",
       "      <td>1.000000</td>\n",
       "      <td>1.000000</td>\n",
       "      <td>0.000000</td>\n",
       "      <td>0.0000</td>\n",
       "      <td>0.000000</td>\n",
       "      <td>1.000000</td>\n",
       "      <td>0.000000</td>\n",
       "      <td>0.000000</td>\n",
       "      <td>1.000000</td>\n",
       "      <td>0.000000</td>\n",
       "      <td>1.000000</td>\n",
       "    </tr>\n",
       "    <tr>\n",
       "      <th>max</th>\n",
       "      <td>76.000000</td>\n",
       "      <td>1.000000</td>\n",
       "      <td>202.000000</td>\n",
       "      <td>200.000000</td>\n",
       "      <td>603.000000</td>\n",
       "      <td>1.000000</td>\n",
       "      <td>1.000000</td>\n",
       "      <td>6.200000</td>\n",
       "      <td>2.000000</td>\n",
       "      <td>1.000000</td>\n",
       "      <td>1.000000</td>\n",
       "      <td>1.000000</td>\n",
       "      <td>1.0000</td>\n",
       "      <td>1.000000</td>\n",
       "      <td>1.000000</td>\n",
       "      <td>1.000000</td>\n",
       "      <td>1.000000</td>\n",
       "      <td>1.000000</td>\n",
       "      <td>1.000000</td>\n",
       "      <td>1.000000</td>\n",
       "    </tr>\n",
       "  </tbody>\n",
       "</table>\n",
       "</div>"
      ],
      "text/plain": [
       "              Age         Sex         MHR          BP          SC         FBS  \\\n",
       "count  960.000000  960.000000  960.000000  960.000000  960.000000  960.000000   \n",
       "mean    52.603125    0.769792  138.755208  132.258333  200.840625    0.357292   \n",
       "std     10.987233    0.421186   26.532084   18.453671  106.044930    0.479452   \n",
       "min     27.000000    0.000000   60.000000    0.000000    0.000000    0.000000   \n",
       "25%     43.000000    1.000000  120.000000  120.000000  177.000000    0.000000   \n",
       "50%     55.000000    1.000000  140.000000  130.000000  221.500000    0.000000   \n",
       "75%     62.000000    1.000000  160.000000  140.000000  266.000000    1.000000   \n",
       "max     76.000000    1.000000  202.000000  200.000000  603.000000    1.000000   \n",
       "\n",
       "              EIA         STD       slope      target        CP_A        CP_B  \\\n",
       "count  960.000000  960.000000  960.000000  960.000000  960.000000  960.000000   \n",
       "mean     0.432292    0.919167    1.352083    0.527083    0.591667    0.121875   \n",
       "std      0.495653    1.077559    0.620299    0.499526    0.491782    0.327312   \n",
       "min      0.000000   -2.600000    0.000000    0.000000    0.000000    0.000000   \n",
       "25%      0.000000    0.000000    1.000000    0.000000    0.000000    0.000000   \n",
       "50%      0.000000    0.650000    1.000000    1.000000    1.000000    0.000000   \n",
       "75%      1.000000    1.500000    2.000000    1.000000    1.000000    0.000000   \n",
       "max      1.000000    6.200000    2.000000    1.000000    1.000000    1.000000   \n",
       "\n",
       "           CP_C        CP_D       REG_P       REG_Q       REG_R  \\\n",
       "count  960.0000  960.000000  960.000000  960.000000  960.000000   \n",
       "mean     0.2250    0.061458    0.584375    0.211458    0.204167   \n",
       "std      0.4178    0.240294    0.493086    0.408555    0.403301   \n",
       "min      0.0000    0.000000    0.000000    0.000000    0.000000   \n",
       "25%      0.0000    0.000000    0.000000    0.000000    0.000000   \n",
       "50%      0.0000    0.000000    1.000000    0.000000    0.000000   \n",
       "75%      0.0000    0.000000    1.000000    0.000000    0.000000   \n",
       "max      1.0000    1.000000    1.000000    1.000000    1.000000   \n",
       "\n",
       "       Thal_fixeddefect  Thal_normal  Thal_reversibledefect  \n",
       "count        960.000000   960.000000             960.000000  \n",
       "mean           0.406250     0.154167               0.439583  \n",
       "std            0.491388     0.361297               0.496595  \n",
       "min            0.000000     0.000000               0.000000  \n",
       "25%            0.000000     0.000000               0.000000  \n",
       "50%            0.000000     0.000000               0.000000  \n",
       "75%            1.000000     0.000000               1.000000  \n",
       "max            1.000000     1.000000               1.000000  "
      ]
     },
     "execution_count": 19,
     "metadata": {},
     "output_type": "execute_result"
    }
   ],
   "source": [
    "df.describe()"
   ]
  },
  {
   "cell_type": "code",
   "execution_count": 20,
   "id": "15cda37c",
   "metadata": {},
   "outputs": [
    {
     "name": "stdout",
     "output_type": "stream",
     "text": [
      "(960, 19)\n"
     ]
    },
    {
     "data": {
      "text/html": [
       "<div>\n",
       "<style scoped>\n",
       "    .dataframe tbody tr th:only-of-type {\n",
       "        vertical-align: middle;\n",
       "    }\n",
       "\n",
       "    .dataframe tbody tr th {\n",
       "        vertical-align: top;\n",
       "    }\n",
       "\n",
       "    .dataframe thead th {\n",
       "        text-align: right;\n",
       "    }\n",
       "</style>\n",
       "<table border=\"1\" class=\"dataframe\">\n",
       "  <thead>\n",
       "    <tr style=\"text-align: right;\">\n",
       "      <th></th>\n",
       "      <th>Age</th>\n",
       "      <th>Sex</th>\n",
       "      <th>MHR</th>\n",
       "      <th>BP</th>\n",
       "      <th>SC</th>\n",
       "      <th>FBS</th>\n",
       "      <th>EIA</th>\n",
       "      <th>STD</th>\n",
       "      <th>slope</th>\n",
       "      <th>CP_A</th>\n",
       "      <th>CP_B</th>\n",
       "      <th>CP_C</th>\n",
       "      <th>CP_D</th>\n",
       "      <th>REG_P</th>\n",
       "      <th>REG_Q</th>\n",
       "      <th>REG_R</th>\n",
       "      <th>Thal_fixeddefect</th>\n",
       "      <th>Thal_normal</th>\n",
       "      <th>Thal_reversibledefect</th>\n",
       "    </tr>\n",
       "  </thead>\n",
       "  <tbody>\n",
       "    <tr>\n",
       "      <th>0</th>\n",
       "      <td>58</td>\n",
       "      <td>0</td>\n",
       "      <td>145</td>\n",
       "      <td>160</td>\n",
       "      <td>164</td>\n",
       "      <td>0</td>\n",
       "      <td>0</td>\n",
       "      <td>6.2</td>\n",
       "      <td>0</td>\n",
       "      <td>0</td>\n",
       "      <td>1</td>\n",
       "      <td>0</td>\n",
       "      <td>0</td>\n",
       "      <td>0</td>\n",
       "      <td>1</td>\n",
       "      <td>0</td>\n",
       "      <td>0</td>\n",
       "      <td>0</td>\n",
       "      <td>1</td>\n",
       "    </tr>\n",
       "    <tr>\n",
       "      <th>1</th>\n",
       "      <td>55</td>\n",
       "      <td>1</td>\n",
       "      <td>120</td>\n",
       "      <td>104</td>\n",
       "      <td>113</td>\n",
       "      <td>0</td>\n",
       "      <td>0</td>\n",
       "      <td>3.5</td>\n",
       "      <td>0</td>\n",
       "      <td>0</td>\n",
       "      <td>0</td>\n",
       "      <td>1</td>\n",
       "      <td>0</td>\n",
       "      <td>0</td>\n",
       "      <td>1</td>\n",
       "      <td>0</td>\n",
       "      <td>0</td>\n",
       "      <td>0</td>\n",
       "      <td>1</td>\n",
       "    </tr>\n",
       "    <tr>\n",
       "      <th>2</th>\n",
       "      <td>39</td>\n",
       "      <td>0</td>\n",
       "      <td>180</td>\n",
       "      <td>120</td>\n",
       "      <td>186</td>\n",
       "      <td>0</td>\n",
       "      <td>1</td>\n",
       "      <td>4.2</td>\n",
       "      <td>0</td>\n",
       "      <td>0</td>\n",
       "      <td>0</td>\n",
       "      <td>0</td>\n",
       "      <td>1</td>\n",
       "      <td>0</td>\n",
       "      <td>1</td>\n",
       "      <td>0</td>\n",
       "      <td>0</td>\n",
       "      <td>0</td>\n",
       "      <td>1</td>\n",
       "    </tr>\n",
       "    <tr>\n",
       "      <th>3</th>\n",
       "      <td>57</td>\n",
       "      <td>1</td>\n",
       "      <td>168</td>\n",
       "      <td>110</td>\n",
       "      <td>229</td>\n",
       "      <td>0</td>\n",
       "      <td>0</td>\n",
       "      <td>1.0</td>\n",
       "      <td>0</td>\n",
       "      <td>0</td>\n",
       "      <td>1</td>\n",
       "      <td>0</td>\n",
       "      <td>0</td>\n",
       "      <td>1</td>\n",
       "      <td>0</td>\n",
       "      <td>0</td>\n",
       "      <td>0</td>\n",
       "      <td>0</td>\n",
       "      <td>1</td>\n",
       "    </tr>\n",
       "    <tr>\n",
       "      <th>4</th>\n",
       "      <td>58</td>\n",
       "      <td>0</td>\n",
       "      <td>145</td>\n",
       "      <td>95</td>\n",
       "      <td>0</td>\n",
       "      <td>1</td>\n",
       "      <td>0</td>\n",
       "      <td>1.1</td>\n",
       "      <td>0</td>\n",
       "      <td>0</td>\n",
       "      <td>1</td>\n",
       "      <td>0</td>\n",
       "      <td>0</td>\n",
       "      <td>1</td>\n",
       "      <td>0</td>\n",
       "      <td>0</td>\n",
       "      <td>0</td>\n",
       "      <td>0</td>\n",
       "      <td>1</td>\n",
       "    </tr>\n",
       "  </tbody>\n",
       "</table>\n",
       "</div>"
      ],
      "text/plain": [
       "   Age  Sex  MHR   BP   SC  FBS  EIA  STD  slope  CP_A  CP_B  CP_C  CP_D  \\\n",
       "0   58    0  145  160  164    0    0  6.2      0     0     1     0     0   \n",
       "1   55    1  120  104  113    0    0  3.5      0     0     0     1     0   \n",
       "2   39    0  180  120  186    0    1  4.2      0     0     0     0     1   \n",
       "3   57    1  168  110  229    0    0  1.0      0     0     1     0     0   \n",
       "4   58    0  145   95    0    1    0  1.1      0     0     1     0     0   \n",
       "\n",
       "   REG_P  REG_Q  REG_R  Thal_fixeddefect  Thal_normal  Thal_reversibledefect  \n",
       "0      0      1      0                 0            0                      1  \n",
       "1      0      1      0                 0            0                      1  \n",
       "2      0      1      0                 0            0                      1  \n",
       "3      1      0      0                 0            0                      1  \n",
       "4      1      0      0                 0            0                      1  "
      ]
     },
     "execution_count": 20,
     "metadata": {},
     "output_type": "execute_result"
    }
   ],
   "source": [
    "X = df.drop(columns = 'target') # X contains the features \n",
    "y= df['target']\n",
    "print(X.shape)\n",
    "X.head()"
   ]
  },
  {
   "cell_type": "code",
   "execution_count": 21,
   "id": "f33fe8dc",
   "metadata": {},
   "outputs": [
    {
     "data": {
      "text/plain": [
       "['Age', 'MHR', 'BP', 'SC', 'STD', 'slope']"
      ]
     },
     "execution_count": 21,
     "metadata": {},
     "output_type": "execute_result"
    }
   ],
   "source": [
    "scale_vars = []\n",
    "\n",
    "for cols in X.columns:\n",
    "    if X[cols].max() > 1:\n",
    "        scale_vars.append(cols)\n",
    "scale_vars"
   ]
  },
  {
   "cell_type": "code",
   "execution_count": 22,
   "id": "bea41cd3",
   "metadata": {},
   "outputs": [
    {
     "name": "stdout",
     "output_type": "stream",
     "text": [
      "(768, 19)\n",
      "(192, 19)\n"
     ]
    }
   ],
   "source": [
    "from sklearn.preprocessing import MinMaxScaler\n",
    "from sklearn.model_selection import train_test_split\n",
    "scaler = MinMaxScaler()\n",
    "\n",
    "X_train, X_test, y_train, y_test = train_test_split(X, y, test_size = 0.2, random_state = 20)\n",
    "print(X_train.shape)\n",
    "print(X_test.shape)"
   ]
  },
  {
   "cell_type": "code",
   "execution_count": 26,
   "id": "67bcfad5",
   "metadata": {},
   "outputs": [
    {
     "data": {
      "text/plain": [
       "Text(0.5, 1.0, 'Counts Per Target Class on the training set')"
      ]
     },
     "execution_count": 26,
     "metadata": {},
     "output_type": "execute_result"
    },
    {
     "data": {
      "image/png": "[encoded data removed]",
      "text/plain": [
       "<Figure size 576x360 with 1 Axes>"
      ]
     },
     "metadata": {
      "needs_background": "light"
     },
     "output_type": "display_data"
    }
   ],
   "source": [
    "plt.figure(figsize=(8, 5))\n",
    "\n",
    "plt.subplot()\n",
    "ax = sns.countplot(y_train )\n",
    "ax.set(ylabel=\"count\", xlabel=\" Target Categories \")\n",
    "plt.title(\"Counts Per Target Class on the training set\")\n",
    "\n",
    "\n",
    "\n"
   ]
  },
  {
   "cell_type": "code",
   "execution_count": 27,
   "id": "6b8dce37",
   "metadata": {},
   "outputs": [
    {
     "data": {
      "text/plain": [
       "Text(0.5, 1.0, 'Counts Per Target Class on the test set')"
      ]
     },
     "execution_count": 27,
     "metadata": {},
     "output_type": "execute_result"
    },
    {
     "data": {
      "image/png": "[encoded data removed]",
      "text/plain": [
       "<Figure size 576x360 with 1 Axes>"
      ]
     },
     "metadata": {
      "needs_background": "light"
     },
     "output_type": "display_data"
    }
   ],
   "source": [
    "plt.figure(figsize=(8, 5))\n",
    "\n",
    "plt.subplot()\n",
    "ax = sns.countplot(y_test )\n",
    "ax.set(ylabel=\"count\", xlabel=\" Target Categories \")\n",
    "plt.title(\"Counts Per Target Class on the test set\")"
   ]
  },
  {
   "cell_type": "code",
   "execution_count": 28,
   "id": "d6c1e42c",
   "metadata": {},
   "outputs": [],
   "source": [
    "scaler.fit(X_train[scale_vars])\n",
    "X_train[scale_vars] = scaler.transform(X_train[scale_vars])\n",
    "X_test[scale_vars] = scaler.transform(X_test[scale_vars])"
   ]
  },
  {
   "cell_type": "code",
   "execution_count": 29,
   "id": "c98136e8",
   "metadata": {},
   "outputs": [
    {
     "data": {
      "text/html": [
       "<div>\n",
       "<style scoped>\n",
       "    .dataframe tbody tr th:only-of-type {\n",
       "        vertical-align: middle;\n",
       "    }\n",
       "\n",
       "    .dataframe tbody tr th {\n",
       "        vertical-align: top;\n",
       "    }\n",
       "\n",
       "    .dataframe thead th {\n",
       "        text-align: right;\n",
       "    }\n",
       "</style>\n",
       "<table border=\"1\" class=\"dataframe\">\n",
       "  <thead>\n",
       "    <tr style=\"text-align: right;\">\n",
       "      <th></th>\n",
       "      <th>Age</th>\n",
       "      <th>Sex</th>\n",
       "      <th>MHR</th>\n",
       "      <th>BP</th>\n",
       "      <th>SC</th>\n",
       "      <th>FBS</th>\n",
       "      <th>EIA</th>\n",
       "      <th>STD</th>\n",
       "      <th>slope</th>\n",
       "      <th>CP_A</th>\n",
       "      <th>CP_B</th>\n",
       "      <th>CP_C</th>\n",
       "      <th>CP_D</th>\n",
       "      <th>REG_P</th>\n",
       "      <th>REG_Q</th>\n",
       "      <th>REG_R</th>\n",
       "      <th>Thal_fixeddefect</th>\n",
       "      <th>Thal_normal</th>\n",
       "      <th>Thal_reversibledefect</th>\n",
       "    </tr>\n",
       "  </thead>\n",
       "  <tbody>\n",
       "    <tr>\n",
       "      <th>197</th>\n",
       "      <td>0.714286</td>\n",
       "      <td>1</td>\n",
       "      <td>0.267606</td>\n",
       "      <td>0.800</td>\n",
       "      <td>0.000000</td>\n",
       "      <td>1</td>\n",
       "      <td>1</td>\n",
       "      <td>0.522727</td>\n",
       "      <td>0.5</td>\n",
       "      <td>1</td>\n",
       "      <td>0</td>\n",
       "      <td>0</td>\n",
       "      <td>0</td>\n",
       "      <td>1</td>\n",
       "      <td>0</td>\n",
       "      <td>0</td>\n",
       "      <td>0</td>\n",
       "      <td>0</td>\n",
       "      <td>1</td>\n",
       "    </tr>\n",
       "    <tr>\n",
       "      <th>316</th>\n",
       "      <td>0.326531</td>\n",
       "      <td>0</td>\n",
       "      <td>0.549296</td>\n",
       "      <td>0.600</td>\n",
       "      <td>0.391844</td>\n",
       "      <td>0</td>\n",
       "      <td>0</td>\n",
       "      <td>0.409091</td>\n",
       "      <td>1.0</td>\n",
       "      <td>1</td>\n",
       "      <td>0</td>\n",
       "      <td>0</td>\n",
       "      <td>0</td>\n",
       "      <td>1</td>\n",
       "      <td>0</td>\n",
       "      <td>0</td>\n",
       "      <td>0</td>\n",
       "      <td>0</td>\n",
       "      <td>1</td>\n",
       "    </tr>\n",
       "    <tr>\n",
       "      <th>636</th>\n",
       "      <td>0.693878</td>\n",
       "      <td>1</td>\n",
       "      <td>0.556338</td>\n",
       "      <td>0.725</td>\n",
       "      <td>0.000000</td>\n",
       "      <td>1</td>\n",
       "      <td>1</td>\n",
       "      <td>0.375000</td>\n",
       "      <td>0.5</td>\n",
       "      <td>1</td>\n",
       "      <td>0</td>\n",
       "      <td>0</td>\n",
       "      <td>0</td>\n",
       "      <td>1</td>\n",
       "      <td>0</td>\n",
       "      <td>0</td>\n",
       "      <td>1</td>\n",
       "      <td>0</td>\n",
       "      <td>0</td>\n",
       "    </tr>\n",
       "    <tr>\n",
       "      <th>444</th>\n",
       "      <td>0.142857</td>\n",
       "      <td>1</td>\n",
       "      <td>0.323944</td>\n",
       "      <td>0.600</td>\n",
       "      <td>0.000000</td>\n",
       "      <td>0</td>\n",
       "      <td>1</td>\n",
       "      <td>0.465909</td>\n",
       "      <td>0.0</td>\n",
       "      <td>1</td>\n",
       "      <td>0</td>\n",
       "      <td>0</td>\n",
       "      <td>0</td>\n",
       "      <td>0</td>\n",
       "      <td>1</td>\n",
       "      <td>0</td>\n",
       "      <td>1</td>\n",
       "      <td>0</td>\n",
       "      <td>0</td>\n",
       "    </tr>\n",
       "    <tr>\n",
       "      <th>633</th>\n",
       "      <td>0.714286</td>\n",
       "      <td>1</td>\n",
       "      <td>0.443662</td>\n",
       "      <td>0.680</td>\n",
       "      <td>0.359929</td>\n",
       "      <td>1</td>\n",
       "      <td>1</td>\n",
       "      <td>0.431818</td>\n",
       "      <td>0.5</td>\n",
       "      <td>1</td>\n",
       "      <td>0</td>\n",
       "      <td>0</td>\n",
       "      <td>0</td>\n",
       "      <td>1</td>\n",
       "      <td>0</td>\n",
       "      <td>0</td>\n",
       "      <td>1</td>\n",
       "      <td>0</td>\n",
       "      <td>0</td>\n",
       "    </tr>\n",
       "  </tbody>\n",
       "</table>\n",
       "</div>"
      ],
      "text/plain": [
       "          Age  Sex       MHR     BP        SC  FBS  EIA       STD  slope  \\\n",
       "197  0.714286    1  0.267606  0.800  0.000000    1    1  0.522727    0.5   \n",
       "316  0.326531    0  0.549296  0.600  0.391844    0    0  0.409091    1.0   \n",
       "636  0.693878    1  0.556338  0.725  0.000000    1    1  0.375000    0.5   \n",
       "444  0.142857    1  0.323944  0.600  0.000000    0    1  0.465909    0.0   \n",
       "633  0.714286    1  0.443662  0.680  0.359929    1    1  0.431818    0.5   \n",
       "\n",
       "     CP_A  CP_B  CP_C  CP_D  REG_P  REG_Q  REG_R  Thal_fixeddefect  \\\n",
       "197     1     0     0     0      1      0      0                 0   \n",
       "316     1     0     0     0      1      0      0                 0   \n",
       "636     1     0     0     0      1      0      0                 1   \n",
       "444     1     0     0     0      0      1      0                 1   \n",
       "633     1     0     0     0      1      0      0                 1   \n",
       "\n",
       "     Thal_normal  Thal_reversibledefect  \n",
       "197            0                      1  \n",
       "316            0                      1  \n",
       "636            0                      0  \n",
       "444            0                      0  \n",
       "633            0                      0  "
      ]
     },
     "execution_count": 29,
     "metadata": {},
     "output_type": "execute_result"
    }
   ],
   "source": [
    "X_test.head()"
   ]
  },
  {
   "cell_type": "code",
   "execution_count": 30,
   "id": "73e2f99d",
   "metadata": {},
   "outputs": [
    {
     "data": {
      "text/html": [
       "<div>\n",
       "<style scoped>\n",
       "    .dataframe tbody tr th:only-of-type {\n",
       "        vertical-align: middle;\n",
       "    }\n",
       "\n",
       "    .dataframe tbody tr th {\n",
       "        vertical-align: top;\n",
       "    }\n",
       "\n",
       "    .dataframe thead th {\n",
       "        text-align: right;\n",
       "    }\n",
       "</style>\n",
       "<table border=\"1\" class=\"dataframe\">\n",
       "  <thead>\n",
       "    <tr style=\"text-align: right;\">\n",
       "      <th></th>\n",
       "      <th>Age</th>\n",
       "      <th>Sex</th>\n",
       "      <th>MHR</th>\n",
       "      <th>BP</th>\n",
       "      <th>SC</th>\n",
       "      <th>FBS</th>\n",
       "      <th>EIA</th>\n",
       "      <th>STD</th>\n",
       "      <th>slope</th>\n",
       "      <th>CP_A</th>\n",
       "      <th>CP_B</th>\n",
       "      <th>CP_C</th>\n",
       "      <th>CP_D</th>\n",
       "      <th>REG_P</th>\n",
       "      <th>REG_Q</th>\n",
       "      <th>REG_R</th>\n",
       "      <th>Thal_fixeddefect</th>\n",
       "      <th>Thal_normal</th>\n",
       "      <th>Thal_reversibledefect</th>\n",
       "    </tr>\n",
       "  </thead>\n",
       "  <tbody>\n",
       "    <tr>\n",
       "      <th>822</th>\n",
       "      <td>0.387755</td>\n",
       "      <td>1</td>\n",
       "      <td>0.845070</td>\n",
       "      <td>0.550</td>\n",
       "      <td>0.379433</td>\n",
       "      <td>1</td>\n",
       "      <td>0</td>\n",
       "      <td>0.340909</td>\n",
       "      <td>1.0</td>\n",
       "      <td>1</td>\n",
       "      <td>0</td>\n",
       "      <td>0</td>\n",
       "      <td>0</td>\n",
       "      <td>0</td>\n",
       "      <td>0</td>\n",
       "      <td>1</td>\n",
       "      <td>1</td>\n",
       "      <td>0</td>\n",
       "      <td>0</td>\n",
       "    </tr>\n",
       "    <tr>\n",
       "      <th>544</th>\n",
       "      <td>0.714286</td>\n",
       "      <td>1</td>\n",
       "      <td>0.563380</td>\n",
       "      <td>0.650</td>\n",
       "      <td>0.466312</td>\n",
       "      <td>0</td>\n",
       "      <td>1</td>\n",
       "      <td>0.522727</td>\n",
       "      <td>0.5</td>\n",
       "      <td>1</td>\n",
       "      <td>0</td>\n",
       "      <td>0</td>\n",
       "      <td>0</td>\n",
       "      <td>1</td>\n",
       "      <td>0</td>\n",
       "      <td>0</td>\n",
       "      <td>1</td>\n",
       "      <td>0</td>\n",
       "      <td>0</td>\n",
       "    </tr>\n",
       "    <tr>\n",
       "      <th>590</th>\n",
       "      <td>0.693878</td>\n",
       "      <td>1</td>\n",
       "      <td>0.492958</td>\n",
       "      <td>0.655</td>\n",
       "      <td>0.269504</td>\n",
       "      <td>1</td>\n",
       "      <td>1</td>\n",
       "      <td>0.409091</td>\n",
       "      <td>0.5</td>\n",
       "      <td>1</td>\n",
       "      <td>0</td>\n",
       "      <td>0</td>\n",
       "      <td>0</td>\n",
       "      <td>0</td>\n",
       "      <td>1</td>\n",
       "      <td>0</td>\n",
       "      <td>1</td>\n",
       "      <td>0</td>\n",
       "      <td>0</td>\n",
       "    </tr>\n",
       "    <tr>\n",
       "      <th>440</th>\n",
       "      <td>1.000000</td>\n",
       "      <td>1</td>\n",
       "      <td>0.063380</td>\n",
       "      <td>0.660</td>\n",
       "      <td>0.812057</td>\n",
       "      <td>1</td>\n",
       "      <td>1</td>\n",
       "      <td>0.409091</td>\n",
       "      <td>0.0</td>\n",
       "      <td>1</td>\n",
       "      <td>0</td>\n",
       "      <td>0</td>\n",
       "      <td>0</td>\n",
       "      <td>1</td>\n",
       "      <td>0</td>\n",
       "      <td>0</td>\n",
       "      <td>1</td>\n",
       "      <td>0</td>\n",
       "      <td>0</td>\n",
       "    </tr>\n",
       "    <tr>\n",
       "      <th>721</th>\n",
       "      <td>0.632653</td>\n",
       "      <td>1</td>\n",
       "      <td>0.429577</td>\n",
       "      <td>0.480</td>\n",
       "      <td>0.540780</td>\n",
       "      <td>0</td>\n",
       "      <td>1</td>\n",
       "      <td>0.409091</td>\n",
       "      <td>1.0</td>\n",
       "      <td>1</td>\n",
       "      <td>0</td>\n",
       "      <td>0</td>\n",
       "      <td>0</td>\n",
       "      <td>0</td>\n",
       "      <td>0</td>\n",
       "      <td>1</td>\n",
       "      <td>1</td>\n",
       "      <td>0</td>\n",
       "      <td>0</td>\n",
       "    </tr>\n",
       "  </tbody>\n",
       "</table>\n",
       "</div>"
      ],
      "text/plain": [
       "          Age  Sex       MHR     BP        SC  FBS  EIA       STD  slope  \\\n",
       "822  0.387755    1  0.845070  0.550  0.379433    1    0  0.340909    1.0   \n",
       "544  0.714286    1  0.563380  0.650  0.466312    0    1  0.522727    0.5   \n",
       "590  0.693878    1  0.492958  0.655  0.269504    1    1  0.409091    0.5   \n",
       "440  1.000000    1  0.063380  0.660  0.812057    1    1  0.409091    0.0   \n",
       "721  0.632653    1  0.429577  0.480  0.540780    0    1  0.409091    1.0   \n",
       "\n",
       "     CP_A  CP_B  CP_C  CP_D  REG_P  REG_Q  REG_R  Thal_fixeddefect  \\\n",
       "822     1     0     0     0      0      0      1                 1   \n",
       "544     1     0     0     0      1      0      0                 1   \n",
       "590     1     0     0     0      0      1      0                 1   \n",
       "440     1     0     0     0      1      0      0                 1   \n",
       "721     1     0     0     0      0      0      1                 1   \n",
       "\n",
       "     Thal_normal  Thal_reversibledefect  \n",
       "822            0                      0  \n",
       "544            0                      0  \n",
       "590            0                      0  \n",
       "440            0                      0  \n",
       "721            0                      0  "
      ]
     },
     "execution_count": 30,
     "metadata": {},
     "output_type": "execute_result"
    }
   ],
   "source": [
    "X_train.head()"
   ]
  },
  {
   "cell_type": "code",
   "execution_count": 31,
   "id": "06b3c48f",
   "metadata": {},
   "outputs": [
    {
     "data": {
      "text/plain": [
       "[]"
      ]
     },
     "execution_count": 31,
     "metadata": {},
     "output_type": "execute_result"
    }
   ],
   "source": [
    "featuresWithZeroVariance = []\n",
    "for cols in X_train.columns:\n",
    "    unique_vals = X_train[cols].unique()\n",
    "    if len(unique_vals) == 1:\n",
    "        featuresWithZeroVariance.append(cols)\n",
    "featuresWithZeroVariance"
   ]
  },
  {
   "cell_type": "code",
   "execution_count": 32,
   "id": "9d7d1cc7",
   "metadata": {},
   "outputs": [
    {
     "data": {
      "image/png": "[encoded data removed]",
      "text/plain": [
       "<Figure size 864x720 with 2 Axes>"
      ]
     },
     "metadata": {
      "needs_background": "light"
     },
     "output_type": "display_data"
    }
   ],
   "source": [
    "# Pearson's Correlation Coefficient\n",
    "\n",
    "corr = X_train.corr()\n",
    "mask1 = np.triu(np.ones_like(corr, dtype=bool))\n",
    "mask2 = np.tril(np.ones_like(corr, dtype=bool))\n",
    "plt.figure(figsize = (12,10))\n",
    "sns.heatmap(corr, annot = True, cmap = \"seismic\", mask = mask1);"
   ]
  },
  {
   "cell_type": "code",
   "execution_count": 33,
   "id": "e8620e8c",
   "metadata": {},
   "outputs": [],
   "source": [
    "# with the following function we can select highly correlated features\n",
    "# it will remove the first feature that is highly correlated with another feature\n",
    "\n",
    "def correlation(dataset, threshold):\n",
    "    col_corr = set() # Set of all the names of the redundant columns\n",
    "    corr_matrix = dataset.corr()\n",
    "    for i in range(len(corr_matrix.columns)):\n",
    "        for j in range(i):\n",
    "            if(abs(corr_matrix.iloc[i, j])) > threshold:\n",
    "                colname = corr_matrix.columns[i]\n",
    "                col_corr.add(colname)\n",
    "    return col_corr"
   ]
  },
  {
   "cell_type": "code",
   "execution_count": 34,
   "id": "475fb6dd",
   "metadata": {},
   "outputs": [
    {
     "name": "stdout",
     "output_type": "stream",
     "text": [
      "0\n",
      "set()\n"
     ]
    }
   ],
   "source": [
    "corr_features = correlation(X_train, 0.9) # 85% is a good value of the threshold\n",
    "print(len(corr_features))\n",
    "print(corr_features)"
   ]
  },
  {
   "cell_type": "code",
   "execution_count": 35,
   "id": "8165cb44",
   "metadata": {},
   "outputs": [
    {
     "name": "stdout",
     "output_type": "stream",
     "text": [
      "(768, 19)\n",
      "(192, 19)\n"
     ]
    }
   ],
   "source": [
    "X_train = X_train.drop(columns = corr_features)\n",
    "X_test = X_test.drop(columns = corr_features)\n",
    "\n",
    "print(X_train.shape)\n",
    "print(X_test.shape)"
   ]
  },
  {
   "cell_type": "code",
   "execution_count": 36,
   "id": "0c785a00",
   "metadata": {},
   "outputs": [],
   "source": [
    "import pandas as pd\n",
    "import numpy as np\n",
    "import statsmodels.api as sm\n",
    "import scipy.stats as st\n",
    "import matplotlib.pyplot as plt\n",
    "import seaborn as sn\n",
    "from sklearn.metrics import confusion_matrix\n",
    "import matplotlib.mlab as mlab\n",
    "%matplotlib inline\n",
    "import sklearn\n",
    "from sklearn import metrics\n"
   ]
  },
  {
   "cell_type": "markdown",
   "id": "3fb93abc",
   "metadata": {},
   "source": [
    "# Applied Classifier"
   ]
  },
  {
   "cell_type": "markdown",
   "id": "10de3382",
   "metadata": {},
   "source": [
    "# Decision Tree"
   ]
  },
  {
   "cell_type": "code",
   "execution_count": 37,
   "id": "79d41aff",
   "metadata": {},
   "outputs": [
    {
     "name": "stdout",
     "output_type": "stream",
     "text": [
      "Depth =  2 , Training Accuracy =  0.8776041666666666 , Test Accuracy =  0.84375 , Diff =  3.385416666666663  %\n",
      "Depth =  3 , Training Accuracy =  0.94921875 , Test Accuracy =  0.96875 , Diff =  1.953125  %\n",
      "Depth =  4 , Training Accuracy =  0.96484375 , Test Accuracy =  0.9635416666666666 , Diff =  0.13020833333333703  %\n",
      "Depth =  5 , Training Accuracy =  0.9752604166666666 , Test Accuracy =  0.9010416666666666 , Diff =  7.421875  %\n",
      "Depth =  6 , Training Accuracy =  0.9869791666666666 , Test Accuracy =  0.9322916666666666 , Diff =  5.46875  %\n",
      "Depth =  7 , Training Accuracy =  0.9908854166666666 , Test Accuracy =  0.9375 , Diff =  5.3385416666666625  %\n",
      "Depth =  8 , Training Accuracy =  0.9973958333333334 , Test Accuracy =  0.9375 , Diff =  5.9895833333333375  %\n",
      "Depth =  9 , Training Accuracy =  1.0 , Test Accuracy =  0.9375 , Diff =  6.25  %\n",
      "Depth =  10 , Training Accuracy =  1.0 , Test Accuracy =  0.9166666666666666 , Diff =  8.333333333333337  %\n",
      "Depth =  15 , Training Accuracy =  1.0 , Test Accuracy =  0.9270833333333334 , Diff =  7.2916666666666625  %\n",
      "Depth =  20 , Training Accuracy =  1.0 , Test Accuracy =  0.921875 , Diff =  7.8125  %\n",
      "Depth =  25 , Training Accuracy =  1.0 , Test Accuracy =  0.9270833333333334 , Diff =  7.2916666666666625  %\n",
      "Depth =  30 , Training Accuracy =  1.0 , Test Accuracy =  0.9322916666666666 , Diff =  6.7708333333333375  %\n",
      "Depth =  35 , Training Accuracy =  1.0 , Test Accuracy =  0.9375 , Diff =  6.25  %\n",
      "Depth =  40 , Training Accuracy =  1.0 , Test Accuracy =  0.9479166666666666 , Diff =  5.2083333333333375  %\n",
      "Depth =  45 , Training Accuracy =  1.0 , Test Accuracy =  0.9375 , Diff =  6.25  %\n",
      "Depth =  50 , Training Accuracy =  1.0 , Test Accuracy =  0.9270833333333334 , Diff =  7.2916666666666625  %\n",
      "Confusion Matrix for the Test Case\n",
      "[[ 77   6]\n",
      " [  8 101]]\n",
      "\n",
      "Classification Report\n",
      "              precision    recall  f1-score   support\n",
      "\n",
      "           0      0.906     0.928     0.917        83\n",
      "           1      0.944     0.927     0.935       109\n",
      "\n",
      "    accuracy                          0.927       192\n",
      "   macro avg      0.925     0.927     0.926       192\n",
      "weighted avg      0.927     0.927     0.927       192\n",
      "\n"
     ]
    },
    {
     "data": {
      "image/png": "[encoded data removed]",
      "text/plain": [
       "<Figure size 432x288 with 1 Axes>"
      ]
     },
     "metadata": {
      "needs_background": "light"
     },
     "output_type": "display_data"
    },
    {
     "data": {
      "image/png": "[encoded data removed]",
      "text/plain": [
       "<Figure size 432x360 with 2 Axes>"
      ]
     },
     "metadata": {
      "needs_background": "light"
     },
     "output_type": "display_data"
    }
   ],
   "source": [
    "# Decision Tree\n",
    "\n",
    "from sklearn.tree import DecisionTreeClassifier\n",
    "from sklearn.metrics import accuracy_score\n",
    "maxdepths = [2,3,4,5,6,7,8,9,10,15,20,25,30,35,40,45,50]\n",
    "trainAcc = np.zeros(len(maxdepths))\n",
    "testAcc = np.zeros(len(maxdepths))\n",
    "\n",
    "index = 0\n",
    "for depth in maxdepths:\n",
    "    clf = DecisionTreeClassifier(max_depth=depth)\n",
    "    clf = clf.fit(X_train, y_train)\n",
    "    y_predTrain = clf.predict(X_train)\n",
    "    y_predTest = clf.predict(X_test)\n",
    "    trainAcc[index] = accuracy_score(y_train, y_predTrain)\n",
    "    testAcc[index] = accuracy_score(y_test, y_predTest)\n",
    "    print(\"Depth = \", depth, \", Training Accuracy = \", trainAcc[index], \", Test Accuracy = \", testAcc[index], \n",
    "          \", Diff = \", np.abs((trainAcc[index]-testAcc[index])*100), \" %\")\n",
    "    index += 1\n",
    "\n",
    "    \n",
    "#########################################\n",
    "# Plot of training and test accuracies\n",
    "#########################################\n",
    "    \n",
    "plt.plot(maxdepths,trainAcc,'ro-',maxdepths,testAcc,'bv--')\n",
    "plt.legend(['Training Accuracy','Test Accuracy'])\n",
    "plt.xlabel('Max depth')\n",
    "plt.ylabel('Accuracy');\n",
    "\n",
    "print(\"Confusion Matrix for the Test Case\")\n",
    "print(metrics.confusion_matrix(y_test, y_predTest))\n",
    "print()\n",
    "\n",
    "\n",
    "sklearn.metrics.accuracy_score(y_test,y_predTest)\n",
    "\n",
    "from sklearn.metrics import confusion_matrix\n",
    "cm=confusion_matrix(y_test,y_predTest)\n",
    "conf_matrix=pd.DataFrame(data=cm,columns=['Predicted:0','Predicted:1'],index=['Actual:0','Actual:1'])\n",
    "plt.figure(figsize = (6,5))\n",
    "sn.heatmap(conf_matrix, annot=True,fmt='d',cmap=\"Blues\")\n",
    "\n",
    "\n",
    "print(\"Classification Report\")\n",
    "print(metrics.classification_report(y_test, y_predTest, digits = 3))"
   ]
  },
  {
   "cell_type": "markdown",
   "id": "ff4a8eee",
   "metadata": {},
   "source": [
    "# KNN"
   ]
  },
  {
   "cell_type": "code",
   "execution_count": 38,
   "id": "da65dce5",
   "metadata": {},
   "outputs": [
    {
     "name": "stdout",
     "output_type": "stream",
     "text": [
      "K =  1 , Training Accuracy =  1.0  Test Accuracy =  0.828125 , Difference =  17.1875 %\n",
      "K =  5 , Training Accuracy =  0.8580729166666666  Test Accuracy =  0.7916666666666666 , Difference =  6.640625 %\n",
      "K =  10 , Training Accuracy =  0.7994791666666666  Test Accuracy =  0.8072916666666666 , Difference =  0.78125 %\n",
      "K =  15 , Training Accuracy =  0.7682291666666666  Test Accuracy =  0.7916666666666666 , Difference =  2.34375 %\n",
      "K =  20 , Training Accuracy =  0.74609375  Test Accuracy =  0.765625 , Difference =  1.953125 %\n",
      "K =  25 , Training Accuracy =  0.7252604166666666  Test Accuracy =  0.703125 , Difference =  2.213541666666663 %\n",
      "K =  30 , Training Accuracy =  0.70703125  Test Accuracy =  0.6875 , Difference =  1.953125 %\n",
      "Confusion Matrix for the Test Case\n",
      "[[67 16]\n",
      " [44 65]]\n",
      "\n",
      "Classification Report\n",
      "              precision    recall  f1-score   support\n",
      "\n",
      "           0      0.604     0.807     0.691        83\n",
      "           1      0.802     0.596     0.684       109\n",
      "\n",
      "    accuracy                          0.688       192\n",
      "   macro avg      0.703     0.702     0.687       192\n",
      "weighted avg      0.717     0.688     0.687       192\n",
      "\n"
     ]
    },
    {
     "data": {
      "image/png": "[encoded data removed]",
      "text/plain": [
       "<Figure size 432x288 with 1 Axes>"
      ]
     },
     "metadata": {
      "needs_background": "light"
     },
     "output_type": "display_data"
    },
    {
     "data": {
      "image/png": "[encoded data removed]",
      "text/plain": [
       "<Figure size 432x360 with 2 Axes>"
      ]
     },
     "metadata": {
      "needs_background": "light"
     },
     "output_type": "display_data"
    }
   ],
   "source": [
    "# KNN with Euclidean Distance Metric\n",
    "\n",
    "from sklearn.neighbors import KNeighborsClassifier\n",
    "numNeighbors = [1, 5, 10, 15, 20, 25, 30]\n",
    "trainAcc = []\n",
    "testAcc = []\n",
    "\n",
    "for k in numNeighbors:\n",
    "    clf = KNeighborsClassifier(n_neighbors=k, metric='minkowski', p=2)\n",
    "    clf.fit(X_train, y_train)\n",
    "    y_predTrain = clf.predict(X_train)\n",
    "    y_predTest = clf.predict(X_test)\n",
    "    trainAcc.append(accuracy_score(y_train, y_predTrain))\n",
    "    testAcc.append(accuracy_score(y_test, y_predTest))\n",
    "\n",
    "plt.plot(numNeighbors, trainAcc, 'ro-', numNeighbors, testAcc,'bv--')\n",
    "plt.legend(['Training Accuracy','Test Accuracy'])\n",
    "plt.xlabel('Number of neighbors')\n",
    "plt.ylabel('Accuracy');\n",
    "\n",
    "index = 0\n",
    "for i in numNeighbors:\n",
    "    print(\"K = \", numNeighbors[index], \", Training Accuracy = \", trainAcc[index], \" Test Accuracy = \", testAcc[index], \n",
    "          \", Difference = \", np.abs(trainAcc[index]-testAcc[index])*100, \"%\")\n",
    "    index+=1\n",
    "    \n",
    "    \n",
    " \n",
    "print(\"Confusion Matrix for the Test Case\")\n",
    "print(metrics.confusion_matrix(y_test, y_predTest))\n",
    "print()\n",
    "\n",
    "\n",
    "sklearn.metrics.accuracy_score(y_test,y_predTest)\n",
    "\n",
    "from sklearn.metrics import confusion_matrix\n",
    "cm=confusion_matrix(y_test,y_predTest)\n",
    "conf_matrix=pd.DataFrame(data=cm,columns=['Predicted:0','Predicted:1'],index=['Actual:0','Actual:1'])\n",
    "plt.figure(figsize = (6,5))\n",
    "sn.heatmap(conf_matrix, annot=True,fmt='d',cmap=\"Blues\")\n",
    "\n",
    "\n",
    "print(\"Classification Report\")\n",
    "print(metrics.classification_report(y_test, y_predTest, digits = 3))\n"
   ]
  },
  {
   "cell_type": "markdown",
   "id": "18eaecc1",
   "metadata": {},
   "source": [
    "# Logistic Regression"
   ]
  },
  {
   "cell_type": "code",
   "execution_count": 39,
   "id": "a5bc8125",
   "metadata": {},
   "outputs": [
    {
     "name": "stdout",
     "output_type": "stream",
     "text": [
      "Logistic Regression with no regularization\n",
      "Train Accuracy:  0.9440104166666666\n",
      "Test Accuracy:  0.953125\n",
      "\n",
      "Confusion Matrix for the Test Case\n",
      "[[ 79   4]\n",
      " [  5 104]]\n",
      "\n",
      "Classification Report\n",
      "              precision    recall  f1-score   support\n",
      "\n",
      "           0      0.940     0.952     0.946        83\n",
      "           1      0.963     0.954     0.959       109\n",
      "\n",
      "    accuracy                          0.953       192\n",
      "   macro avg      0.952     0.953     0.952       192\n",
      "weighted avg      0.953     0.953     0.953       192\n",
      "\n",
      "Logistic Regression with L2 regularization\n",
      "Train Accuracy:  0.9166666666666666\n",
      "Test Accuracy:  0.9270833333333334\n",
      "Confusion Matrix for the Test Case\n",
      "[[ 76   7]\n",
      " [  7 102]]\n",
      "\n",
      "Classification Report\n",
      "              precision    recall  f1-score   support\n",
      "\n",
      "           0      0.916     0.916     0.916        83\n",
      "           1      0.936     0.936     0.936       109\n",
      "\n",
      "    accuracy                          0.927       192\n",
      "   macro avg      0.926     0.926     0.926       192\n",
      "weighted avg      0.927     0.927     0.927       192\n",
      "\n"
     ]
    },
    {
     "data": {
      "image/png": "[encoded data removed]",
      "text/plain": [
       "<Figure size 288x216 with 2 Axes>"
      ]
     },
     "metadata": {
      "needs_background": "light"
     },
     "output_type": "display_data"
    },
    {
     "data": {
      "image/png": "[encoded data removed]",
      "text/plain": [
       "<Figure size 432x288 with 1 Axes>"
      ]
     },
     "metadata": {
      "needs_background": "light"
     },
     "output_type": "display_data"
    },
    {
     "data": {
      "image/png": "[encoded data removed]",
      "text/plain": [
       "<Figure size 432x360 with 2 Axes>"
      ]
     },
     "metadata": {
      "needs_background": "light"
     },
     "output_type": "display_data"
    },
    {
     "data": {
      "image/png": "[encoded data removed]",
      "text/plain": [
       "<Figure size 432x288 with 1 Axes>"
      ]
     },
     "metadata": {
      "needs_background": "light"
     },
     "output_type": "display_data"
    }
   ],
   "source": [
    "# Logistic Regression\n",
    "\n",
    "from sklearn.linear_model import LogisticRegression\n",
    "clf = LogisticRegression(penalty = 'none')\n",
    "\n",
    "clf.fit(X_train, y_train)\n",
    "y_pred_train = clf.predict(X_train)\n",
    "y_pred_test = clf.predict(X_test)\n",
    "print(\"Logistic Regression with no regularization\")\n",
    "print(\"Train Accuracy: \", accuracy_score(y_pred_train, y_train))\n",
    "print(\"Test Accuracy: \", accuracy_score(y_pred_test, y_test))\n",
    "print()\n",
    "print(\"Confusion Matrix for the Test Case\")\n",
    "print(metrics.confusion_matrix(y_test, y_pred_test))\n",
    "print()\n",
    "sklearn.metrics.accuracy_score(y_test,y_pred_test)\n",
    "from sklearn.metrics import confusion_matrix\n",
    "cm=confusion_matrix(y_test,y_pred_test)\n",
    "conf_matrix=pd.DataFrame(data=cm,columns=['Predicted:0','Predicted:1'],index=['Actual:0','Actual:1'])\n",
    "plt.figure(figsize = (4,3))\n",
    "sn.heatmap(conf_matrix, annot=True,fmt='d',cmap=\"Blues\")\n",
    "from sklearn.metrics import plot_roc_curve\n",
    "metrics.plot_roc_curve(clf, X_test, y_test);\n",
    "print(\"Classification Report\")\n",
    "print(metrics.classification_report(y_test, y_pred_test, digits = 3))\n",
    "\n",
    "\n",
    "\n",
    "clf = LogisticRegression(penalty = 'l2')\n",
    "\n",
    "clf.fit(X_train, y_train)\n",
    "y_pred_train = clf.predict(X_train)\n",
    "y_pred_test = clf.predict(X_test)\n",
    "print(\"Logistic Regression with L2 regularization\")\n",
    "print(\"Train Accuracy: \", accuracy_score(y_pred_train, y_train))\n",
    "print(\"Test Accuracy: \", accuracy_score(y_pred_test, y_test))\n",
    "\n",
    "print(\"Confusion Matrix for the Test Case\")\n",
    "print(metrics.confusion_matrix(y_test, y_pred_test))\n",
    "print()\n",
    "\n",
    "\n",
    "sklearn.metrics.accuracy_score(y_test,y_pred_test)\n",
    "\n",
    "from sklearn.metrics import confusion_matrix\n",
    "cm=confusion_matrix(y_test,y_pred_test)\n",
    "conf_matrix=pd.DataFrame(data=cm,columns=['Predicted:0','Predicted:1'],index=['Actual:0','Actual:1'])\n",
    "plt.figure(figsize = (6,5))\n",
    "sn.heatmap(conf_matrix, annot=True,fmt='d',cmap=\"Blues\")\n",
    "\n",
    "\n",
    "from sklearn.metrics import plot_roc_curve\n",
    "\n",
    "metrics.plot_roc_curve(clf, X_test, y_test);\n",
    "print(\"Classification Report\")\n",
    "print(metrics.classification_report(y_test, y_pred_test, digits = 3))"
   ]
  },
  {
   "cell_type": "markdown",
   "id": "6a3af5a6",
   "metadata": {},
   "source": [
    "# Perceptron"
   ]
  },
  {
   "cell_type": "code",
   "execution_count": 40,
   "id": "1d287956",
   "metadata": {},
   "outputs": [
    {
     "name": "stdout",
     "output_type": "stream",
     "text": [
      "Train Accuracy:  0.8841145833333334\n",
      "Test Accuracy:  0.9166666666666666\n",
      "Confusion Matrix for the Test Case\n",
      "[[ 73  10]\n",
      " [  6 103]]\n",
      "\n",
      "Classification Report\n",
      "              precision    recall  f1-score   support\n",
      "\n",
      "           0      0.924     0.880     0.901        83\n",
      "           1      0.912     0.945     0.928       109\n",
      "\n",
      "    accuracy                          0.917       192\n",
      "   macro avg      0.918     0.912     0.915       192\n",
      "weighted avg      0.917     0.917     0.916       192\n",
      "\n"
     ]
    },
    {
     "data": {
      "image/png": "[encoded data removed]",
      "text/plain": [
       "<Figure size 432x360 with 2 Axes>"
      ]
     },
     "metadata": {
      "needs_background": "light"
     },
     "output_type": "display_data"
    },
    {
     "data": {
      "image/png": "[encoded data removed]",
      "text/plain": [
       "<Figure size 432x288 with 1 Axes>"
      ]
     },
     "metadata": {
      "needs_background": "light"
     },
     "output_type": "display_data"
    }
   ],
   "source": [
    "from sklearn.linear_model import Perceptron\n",
    "clf = Perceptron(tol=1e-3, random_state=0)\n",
    "clf.fit(X_train, y_train)\n",
    "y_pred_train = clf.predict(X_train)\n",
    "y_pred_test = clf.predict(X_test)\n",
    "print(\"Train Accuracy: \", accuracy_score(y_pred_train, y_train))\n",
    "print(\"Test Accuracy: \", accuracy_score(y_pred_test, y_test))\n",
    "\n",
    "\n",
    "print(\"Confusion Matrix for the Test Case\")\n",
    "print(metrics.confusion_matrix(y_test, y_pred_test))\n",
    "print()\n",
    "\n",
    "\n",
    "sklearn.metrics.accuracy_score(y_test,y_pred_test)\n",
    "\n",
    "from sklearn.metrics import confusion_matrix\n",
    "cm=confusion_matrix(y_test,y_pred_test)\n",
    "conf_matrix=pd.DataFrame(data=cm,columns=['Predicted:0','Predicted:1'],index=['Actual:0','Actual:1'])\n",
    "plt.figure(figsize = (6,5))\n",
    "sn.heatmap(conf_matrix, annot=True,fmt='d',cmap=\"Blues\")\n",
    "\n",
    "\n",
    "print(\"Classification Report\")\n",
    "print(metrics.classification_report(y_test, y_pred_test, digits = 3))\n",
    "\n",
    "from sklearn.metrics import plot_roc_curve\n",
    "\n",
    "metrics.plot_roc_curve(clf, X_test, y_test);"
   ]
  },
  {
   "cell_type": "markdown",
   "id": "2e1c4cda",
   "metadata": {},
   "source": [
    "# Multinomial Naive Bayes"
   ]
  },
  {
   "cell_type": "code",
   "execution_count": 41,
   "id": "f309ed2a",
   "metadata": {},
   "outputs": [
    {
     "name": "stdout",
     "output_type": "stream",
     "text": [
      "Train Accuracy:  0.6184895833333334\n",
      "Test Accuracy:  0.6302083333333334\n",
      "Confusion Matrix for the Test Case\n",
      "[[45 38]\n",
      " [33 76]]\n",
      "\n",
      "Classification Report\n",
      "              precision    recall  f1-score   support\n",
      "\n",
      "           0      0.577     0.542     0.559        83\n",
      "           1      0.667     0.697     0.682       109\n",
      "\n",
      "    accuracy                          0.630       192\n",
      "   macro avg      0.622     0.620     0.620       192\n",
      "weighted avg      0.628     0.630     0.629       192\n",
      "\n"
     ]
    },
    {
     "data": {
      "image/png": "[encoded data removed]",
      "text/plain": [
       "<Figure size 432x360 with 2 Axes>"
      ]
     },
     "metadata": {
      "needs_background": "light"
     },
     "output_type": "display_data"
    },
    {
     "data": {
      "image/png": "[encoded data removed]",
      "text/plain": [
       "<Figure size 432x288 with 1 Axes>"
      ]
     },
     "metadata": {
      "needs_background": "light"
     },
     "output_type": "display_data"
    }
   ],
   "source": [
    "# Multinomial Naive Bayes\n",
    "\n",
    "from sklearn.naive_bayes import MultinomialNB\n",
    "clf = MultinomialNB()\n",
    "clf.fit(X_train, y_train)\n",
    "y_pred_train = clf.predict(X_train)\n",
    "y_pred_test = clf.predict(X_test)\n",
    "print(\"Train Accuracy: \", accuracy_score(y_pred_train, y_train))\n",
    "print(\"Test Accuracy: \", accuracy_score(y_pred_test, y_test))\n",
    "\n",
    "print(\"Confusion Matrix for the Test Case\")\n",
    "print(metrics.confusion_matrix(y_test, y_pred_test))\n",
    "print()\n",
    "\n",
    "\n",
    "sklearn.metrics.accuracy_score(y_test,y_pred_test)\n",
    "\n",
    "from sklearn.metrics import confusion_matrix\n",
    "cm=confusion_matrix(y_test,y_pred_test)\n",
    "conf_matrix=pd.DataFrame(data=cm,columns=['Predicted:0','Predicted:1'],index=['Actual:0','Actual:1'])\n",
    "plt.figure(figsize = (6,5))\n",
    "sn.heatmap(conf_matrix, annot=True,fmt='d',cmap=\"Blues\")\n",
    "\n",
    "\n",
    "print(\"Classification Report\")\n",
    "print(metrics.classification_report(y_test, y_pred_test, digits = 3))\n",
    "\n",
    "from sklearn.metrics import plot_roc_curve\n",
    "\n",
    "metrics.plot_roc_curve(clf, X_test, y_test);\n",
    "\n"
   ]
  },
  {
   "cell_type": "markdown",
   "id": "e5b8355f",
   "metadata": {},
   "source": [
    "# SVC"
   ]
  },
  {
   "cell_type": "code",
   "execution_count": 42,
   "id": "b8c18d86",
   "metadata": {},
   "outputs": [
    {
     "name": "stdout",
     "output_type": "stream",
     "text": [
      "Train Accuracy:  0.9166666666666666\n",
      "Test Accuracy:  0.890625\n",
      "Confusion Matrix for the Test Case\n",
      "[[78  5]\n",
      " [16 93]]\n",
      "\n",
      "Classification Report\n",
      "              precision    recall  f1-score   support\n",
      "\n",
      "           0      0.830     0.940     0.881        83\n",
      "           1      0.949     0.853     0.899       109\n",
      "\n",
      "    accuracy                          0.891       192\n",
      "   macro avg      0.889     0.896     0.890       192\n",
      "weighted avg      0.897     0.891     0.891       192\n",
      "\n"
     ]
    },
    {
     "data": {
      "image/png": "[encoded data removed]",
      "text/plain": [
       "<Figure size 432x360 with 2 Axes>"
      ]
     },
     "metadata": {
      "needs_background": "light"
     },
     "output_type": "display_data"
    },
    {
     "data": {
      "image/png": "[encoded data removed]",
      "text/plain": [
       "<Figure size 432x288 with 1 Axes>"
      ]
     },
     "metadata": {
      "needs_background": "light"
     },
     "output_type": "display_data"
    }
   ],
   "source": [
    "from sklearn.svm import SVC\n",
    "clf = SVC(gamma = 'auto', random_state = 0)\n",
    "clf.fit(X_train, y_train)\n",
    "y_pred_train = clf.predict(X_train)\n",
    "y_pred_test = clf.predict(X_test)\n",
    "print(\"Train Accuracy: \", accuracy_score(y_pred_train, y_train))\n",
    "print(\"Test Accuracy: \", accuracy_score(y_pred_test, y_test))\n",
    "\n",
    "print(\"Confusion Matrix for the Test Case\")\n",
    "print(metrics.confusion_matrix(y_test, y_pred_test))\n",
    "print()\n",
    "\n",
    "\n",
    "sklearn.metrics.accuracy_score(y_test,y_pred_test)\n",
    "\n",
    "from sklearn.metrics import confusion_matrix\n",
    "cm=confusion_matrix(y_test,y_pred_test)\n",
    "conf_matrix=pd.DataFrame(data=cm,columns=['Predicted:0','Predicted:1'],index=['Actual:0','Actual:1'])\n",
    "plt.figure(figsize = (6,5))\n",
    "sn.heatmap(conf_matrix, annot=True,fmt='d',cmap=\"Blues\")\n",
    "\n",
    "\n",
    "print(\"Classification Report\")\n",
    "print(metrics.classification_report(y_test, y_pred_test, digits = 3))\n",
    "\n",
    "from sklearn.metrics import plot_roc_curve\n",
    "\n",
    "metrics.plot_roc_curve(clf, X_test, y_test);\n",
    "\n"
   ]
  },
  {
   "cell_type": "markdown",
   "id": "593ba6dc",
   "metadata": {},
   "source": [
    "# Random Forest Classifier"
   ]
  },
  {
   "cell_type": "code",
   "execution_count": 43,
   "id": "efd295a3",
   "metadata": {},
   "outputs": [],
   "source": [
    "from sklearn.ensemble import RandomForestClassifier\n",
    "\n",
    "import numpy as np # linear algebra\n",
    "import pandas as pd # data processing, CSV file I/O (e.g. pd.read_csv)\n",
    "import matplotlib.pyplot as plt\n",
    "import seaborn as sns\n",
    "sns.set()\n",
    "\n",
    "from sklearn.tree import DecisionTreeClassifier, plot_tree\n",
    "from sklearn.model_selection import train_test_split, cross_val_score\n",
    "from sklearn.metrics import confusion_matrix, plot_confusion_matrix\n",
    "from sklearn.ensemble import RandomForestClassifier"
   ]
  },
  {
   "cell_type": "code",
   "execution_count": 44,
   "id": "8d78b584",
   "metadata": {},
   "outputs": [
    {
     "name": "stdout",
     "output_type": "stream",
     "text": [
      "Mean accuracy:  0.9413886766827944\n",
      "Train Accuracy:  1.0\n",
      "Test Accuracy:  0.96875\n",
      "Confusion Matrix for the Test Case\n",
      "[[ 81   2]\n",
      " [  4 105]]\n",
      "\n",
      "Classification Report\n",
      "              precision    recall  f1-score   support\n",
      "\n",
      "           0      0.953     0.976     0.964        83\n",
      "           1      0.981     0.963     0.972       109\n",
      "\n",
      "    accuracy                          0.969       192\n",
      "   macro avg      0.967     0.970     0.968       192\n",
      "weighted avg      0.969     0.969     0.969       192\n",
      "\n"
     ]
    },
    {
     "data": {
      "image/png": "[encoded data removed]",
      "text/plain": [
       "<Figure size 432x360 with 2 Axes>"
      ]
     },
     "metadata": {},
     "output_type": "display_data"
    },
    {
     "data": {
      "image/png": "[encoded data removed]",
      "text/plain": [
       "<Figure size 432x288 with 1 Axes>"
      ]
     },
     "metadata": {},
     "output_type": "display_data"
    }
   ],
   "source": [
    "# Random Forest\n",
    "rf = RandomForestClassifier(n_estimators=50)\n",
    "rf.fit(X_train, y_train)\n",
    "\n",
    "y_pred_train = rf.predict(X_train)\n",
    "y_pred_test = rf.predict(X_test)\n",
    "rf_accuracy = np.mean(cross_val_score(rf, X_train, y_train, cv=5, scoring='accuracy'))\n",
    "print('Mean accuracy: ', rf_accuracy)\n",
    "\n",
    "\n",
    "\n",
    "print(\"Train Accuracy: \", accuracy_score(y_pred_train, y_train))\n",
    "print(\"Test Accuracy: \", accuracy_score(y_pred_test, y_test))\n",
    "\n",
    "print(\"Confusion Matrix for the Test Case\")\n",
    "print(metrics.confusion_matrix(y_test, y_pred_test))\n",
    "print()\n",
    "\n",
    "\n",
    "sklearn.metrics.accuracy_score(y_test,y_pred_test)\n",
    "\n",
    "from sklearn.metrics import confusion_matrix\n",
    "cm=confusion_matrix(y_test,y_pred_test)\n",
    "conf_matrix=pd.DataFrame(data=cm,columns=['Predicted:0','Predicted:1'],index=['Actual:0','Actual:1'])\n",
    "plt.figure(figsize = (6,5))\n",
    "sn.heatmap(conf_matrix, annot=True,fmt='d',cmap=\"Blues\")\n",
    "\n",
    "\n",
    "print(\"Classification Report\")\n",
    "print(metrics.classification_report(y_test, y_pred_test, digits = 3))\n",
    "\n",
    "from sklearn.metrics import plot_roc_curve\n",
    "\n",
    "metrics.plot_roc_curve(rf, X_test, y_test);\n"
   ]
  },
  {
   "cell_type": "markdown",
   "id": "31c74cac",
   "metadata": {},
   "source": [
    "# Gradient Boosting Classifier"
   ]
  },
  {
   "cell_type": "code",
   "execution_count": 45,
   "id": "53dd6494",
   "metadata": {},
   "outputs": [],
   "source": [
    "from sklearn.ensemble import GradientBoostingClassifier\n",
    "    \n",
    "from sklearn.model_selection import GridSearchCV, train_test_split\n",
    "from sklearn.metrics import (\n",
    "    confusion_matrix,\n",
    "    precision_score,\n",
    "    recall_score,\n",
    "    accuracy_score\n",
    ")\n"
   ]
  },
  {
   "cell_type": "code",
   "execution_count": 46,
   "id": "dd84fac3",
   "metadata": {},
   "outputs": [
    {
     "name": "stdout",
     "output_type": "stream",
     "text": [
      "[[ 79   4]\n",
      " [  3 106]]\n",
      "Accuracy=0.9635416666666666\n",
      "Precision=0.9636363636363636\n",
      "Recall=0.9724770642201835\n",
      "Train Accuracy:  0.99609375\n",
      "Test Accuracy:  0.9635416666666666\n",
      "Confusion Matrix for the Test Case\n",
      "[[ 79   4]\n",
      " [  3 106]]\n",
      "\n",
      "Classification Report\n",
      "              precision    recall  f1-score   support\n",
      "\n",
      "           0      0.963     0.952     0.958        83\n",
      "           1      0.964     0.972     0.968       109\n",
      "\n",
      "    accuracy                          0.964       192\n",
      "   macro avg      0.964     0.962     0.963       192\n",
      "weighted avg      0.964     0.964     0.964       192\n",
      "\n"
     ]
    },
    {
     "data": {
      "image/png": "[encoded data removed]",
      "text/plain": [
       "<Figure size 288x216 with 2 Axes>"
      ]
     },
     "metadata": {},
     "output_type": "display_data"
    },
    {
     "data": {
      "image/png": "[encoded data removed]",
      "text/plain": [
       "<Figure size 432x288 with 1 Axes>"
      ]
     },
     "metadata": {},
     "output_type": "display_data"
    }
   ],
   "source": [
    "gbc = GradientBoostingClassifier()\n",
    "gbc.fit(X_train, y_train)\n",
    "y_pred_train = gbc.predict(X_train)\n",
    "y_pred_test = gbc.predict(X_test)\n",
    "\n",
    "print(confusion_matrix(y_test, y_pred_test))\n",
    "print(\"Accuracy=\" + str(accuracy_score(y_test, y_pred_test)))\n",
    "print(\"Precision=\" + str(precision_score(y_test, y_pred_test)))\n",
    "print(\"Recall=\" + str(recall_score(y_test, y_pred_test)))\n",
    "\n",
    "\n",
    "\n",
    "print(\"Train Accuracy: \", accuracy_score(y_pred_train, y_train))\n",
    "print(\"Test Accuracy: \", accuracy_score(y_pred_test, y_test))\n",
    "\n",
    "print(\"Confusion Matrix for the Test Case\")\n",
    "print(metrics.confusion_matrix(y_test, y_pred_test))\n",
    "print()\n",
    "\n",
    "\n",
    "sklearn.metrics.accuracy_score(y_test,y_pred_test)\n",
    "\n",
    "from sklearn.metrics import confusion_matrix\n",
    "cm=confusion_matrix(y_test,y_pred_test)\n",
    "conf_matrix=pd.DataFrame(data=cm,columns=['Predicted:0','Predicted:1'],index=['Actual:0','Actual:1'])\n",
    "plt.figure(figsize = (4,3))\n",
    "sn.heatmap(conf_matrix, annot=True,fmt='d',cmap=\"Blues\")\n",
    "\n",
    "\n",
    "print(\"Classification Report\")\n",
    "print(metrics.classification_report(y_test, y_pred_test, digits = 3))\n",
    "\n",
    "from sklearn.metrics import plot_roc_curve\n",
    "\n",
    "metrics.plot_roc_curve(gbc, X_test, y_test);"
   ]
  },
  {
   "cell_type": "code",
   "execution_count": null,
   "id": "b35404f6",
   "metadata": {},
   "outputs": [],
   "source": []
  }
 ],
 "metadata": {
  "kernelspec": {
   "display_name": "Python 3",
   "language": "python",
   "name": "python3"
  },
  "language_info": {
   "codemirror_mode": {
    "name": "ipython",
    "version": 3
   },
   "file_extension": ".py",
   "mimetype": "text/x-python",
   "name": "python",
   "nbconvert_exporter": "python",
   "pygments_lexer": "ipython3",
   "version": "3.8.8"
  }
 },
 "nbformat": 4,
 "nbformat_minor": 5
}
